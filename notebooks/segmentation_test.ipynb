{
 "cells": [
  {
   "metadata": {
    "ExecuteTime": {
     "end_time": "2025-01-28T20:47:37.967189Z",
     "start_time": "2025-01-28T20:47:37.742152Z"
    }
   },
   "cell_type": "code",
   "source": [
    "import cv2\n",
    "import os\n",
    "import sys\n",
    "from PIL import Image\n",
    "import numpy as np"
   ],
   "id": "39e971afd6cb3229",
   "outputs": [],
   "execution_count": 1
  },
  {
   "metadata": {
    "ExecuteTime": {
     "end_time": "2025-01-28T20:53:02.023726Z",
     "start_time": "2025-01-28T20:53:02.007254Z"
    }
   },
   "cell_type": "code",
   "source": [
    "def extract_foreground_with_grabcut(depth_map):\n",
    "        # Ensure the depth map is a NumPy array and normalize it for visualization\n",
    "        depth_map = cv2.normalize(depth_map, None, 0, 255, cv2.NORM_MINMAX).astype(np.uint8)\n",
    "\n",
    "                # Convert the single-channel depth map to a 3-channel image\n",
    "        depth_map_3ch = cv2.cvtColor(depth_map, cv2.COLOR_GRAY2BGR)\n",
    "        \n",
    "        # Initialize the mask\n",
    "        mask = np.ones(depth_map_3ch.shape[:2], np.uint8) * 2  # Initialize all pixels as probable background\n",
    "        \n",
    "        # Assume the center region is more likely to be foreground\n",
    "        height, width = depth_map_3ch.shape[:2]\n",
    "        rect = (width // 4, height // 4, width // 2, height // 2)\n",
    "        mask[rect[1]:rect[1]+rect[3], rect[0]:rect[0]+rect[2]] = 3  # Mark probable foreground\n",
    "        \n",
    "        # Initialize background and foreground models\n",
    "        bgd_model = np.zeros((1, 65), np.float64)\n",
    "        fgd_model = np.zeros((1, 65), np.float64)\n",
    "        \n",
    "        # Apply the GrabCut algorithm\n",
    "        cv2.grabCut(depth_map_3ch, mask, rect, bgd_model, fgd_model, 5, cv2.GC_INIT_WITH_RECT)\n",
    "\n",
    "        # Convert mask to binary: 1 (foreground), 0 (background)\n",
    "        mask_foreground = np.where((mask == 2) | (mask == 0), 0, 1).astype('uint8')\n",
    "\n",
    "        # Extract the foreground object\n",
    "        result = depth_map * mask_foreground\n",
    "\n",
    "        return result, mask_foreground"
   ],
   "id": "c5b39ab89ce073c2",
   "outputs": [],
   "execution_count": 17
  },
  {
   "metadata": {
    "ExecuteTime": {
     "end_time": "2025-01-28T20:53:03.707289Z",
     "start_time": "2025-01-28T20:53:02.329964Z"
    }
   },
   "cell_type": "code",
   "source": [
    "depth_map = cv2.imread('../assets/h8_depth.jpeg', cv2.IMREAD_GRAYSCALE)\n",
    "\n",
    "scale_factor = 0.5  # Adjust this value as needed\n",
    "new_size = (int(depth_map.shape[1] * scale_factor), int(depth_map.shape[0] * scale_factor))\n",
    "depth_map = cv2.resize(depth_map, new_size)\n",
    "\n",
    "# Ensure the image was loaded correctly\n",
    "if depth_map is None:\n",
    "        print(\"Failed to load depth map image.\")\n",
    "        exit()\n",
    "\n",
    "# Extract the foreground object\n",
    "foreground, mask = extract_foreground_with_grabcut(depth_map)\n",
    "\n",
    "# Display the results\n",
    "cv2.imwrite(\"original.png\", depth_map)\n",
    "cv2.imwrite(\"Foreground.png\", foreground)\n",
    "cv2.imwrite(\"mask.png\", mask * 255)  # Scale mask for visualization"
   ],
   "id": "680c9a98f7bbb97e",
   "outputs": [
    {
     "data": {
      "text/plain": [
       "True"
      ]
     },
     "execution_count": 18,
     "metadata": {},
     "output_type": "execute_result"
    }
   ],
   "execution_count": 18
  },
  {
   "metadata": {},
   "cell_type": "code",
   "outputs": [],
   "execution_count": null,
   "source": "",
   "id": "837533aec8ccda1c"
  }
 ],
 "metadata": {
  "kernelspec": {
   "display_name": "Python 3",
   "language": "python",
   "name": "python3"
  },
  "language_info": {
   "codemirror_mode": {
    "name": "ipython",
    "version": 2
   },
   "file_extension": ".py",
   "mimetype": "text/x-python",
   "name": "python",
   "nbconvert_exporter": "python",
   "pygments_lexer": "ipython2",
   "version": "2.7.6"
  }
 },
 "nbformat": 4,
 "nbformat_minor": 5
}
