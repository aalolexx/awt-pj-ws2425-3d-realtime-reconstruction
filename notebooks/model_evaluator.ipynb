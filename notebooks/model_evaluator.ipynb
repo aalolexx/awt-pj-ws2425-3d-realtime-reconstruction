{
 "cells": [
  {
   "metadata": {},
   "cell_type": "markdown",
   "source": [
    "# Model Evaluator\n",
    "Use This Notebook to evaluate model runs."
   ],
   "id": "40114f1d8b017f86"
  },
  {
   "metadata": {
    "ExecuteTime": {
     "end_time": "2025-01-24T15:14:21.149981Z",
     "start_time": "2025-01-24T15:14:14.199664Z"
    }
   },
   "cell_type": "code",
   "source": [
    "import torch\n",
    "import torch.nn as nn\n",
    "import open3d as o3d\n",
    "import os\n",
    "import cv2\n",
    "import matplotlib.pyplot as plt\n",
    "import numpy as np\n",
    "\n",
    "device = 'cuda' if torch.cuda.is_available() else 'cpu'"
   ],
   "id": "initial_id",
   "outputs": [
    {
     "name": "stdout",
     "output_type": "stream",
     "text": [
      "Jupyter environment detected. Enabling Open3D WebVisualizer.\n",
      "[Open3D INFO] WebRTC GUI backend enabled.\n",
      "[Open3D INFO] WebRTCWindowSystem: HTTP handshake server disabled.\n"
     ]
    }
   ],
   "execution_count": 1
  },
  {
   "metadata": {
    "ExecuteTime": {
     "end_time": "2025-01-24T15:14:25.119860Z",
     "start_time": "2025-01-24T15:14:25.104758Z"
    }
   },
   "cell_type": "code",
   "source": [
    "class VoxelAutoEncoder(nn.Module):\n",
    "    \"\"\"\n",
    "    A simple 3D CNN-based encoder-decoder model.\n",
    "    Input/Output shape (B, 1, 64, 128, 64).\n",
    "    \"\"\"\n",
    "    def __init__(self):\n",
    "        super(VoxelAutoEncoder, self).__init__()\n",
    "\n",
    "        # Encoder path\n",
    "        self.enc1 = self.double_conv(1, 32)  # Input channels = 1, output channels = 32\n",
    "        self.enc2 = self.double_conv(32, 64)\n",
    "        self.enc3 = self.double_conv(64, 128)\n",
    "        self.enc4 = self.double_conv(128, 256)\n",
    "        \n",
    "        # Downsampling layers\n",
    "        self.pool = nn.MaxPool3d(2)\n",
    "        \n",
    "        # Bottleneck\n",
    "        self.bottleneck = self.double_conv(256, 512)\n",
    "        \n",
    "        # Decoder path\n",
    "        self.upconv4 = nn.ConvTranspose3d(512, 256, kernel_size=2, stride=2)\n",
    "        self.dec4 = self.double_conv(512, 256)  # Concatenate + Conv\n",
    "        self.upconv3 = nn.ConvTranspose3d(256, 128, kernel_size=2, stride=2)\n",
    "        self.dec3 = self.double_conv(256, 128)\n",
    "        self.upconv2 = nn.ConvTranspose3d(128, 64, kernel_size=2, stride=2)\n",
    "        self.dec2 = self.double_conv(128, 64)\n",
    "        self.upconv1 = nn.ConvTranspose3d(64, 32, kernel_size=2, stride=2)\n",
    "        self.dec1 = self.double_conv(64, 32)\n",
    "        \n",
    "        # Final output layer\n",
    "        self.final = nn.Conv3d(32, 1, kernel_size=1)  # Output channels = 1 (filled voxel volume)\n",
    "\n",
    "        # Sigmoid\n",
    "        self.sigmoid = nn.Sigmoid()\n",
    "\n",
    "    def double_conv(self, in_channels, out_channels):\n",
    "        return nn.Sequential(\n",
    "            nn.Conv3d(in_channels, out_channels, kernel_size=3, padding=1),\n",
    "            nn.BatchNorm3d(out_channels),\n",
    "            nn.ReLU(inplace=True),\n",
    "            nn.Conv3d(out_channels, out_channels, kernel_size=3, padding=1),\n",
    "            nn.BatchNorm3d(out_channels),\n",
    "            nn.ReLU(inplace=True)\n",
    "        )\n",
    "\n",
    "    def forward(self, x):\n",
    "        # Encoder\n",
    "        enc1 = self.enc1(x)  # Output: (32, 64, 128, 64)\n",
    "        enc2 = self.enc2(self.pool(enc1))  # Output: (64, 32, 64, 32)\n",
    "        enc3 = self.enc3(self.pool(enc2))  # Output: (128, 16, 32, 16)\n",
    "        enc4 = self.enc4(self.pool(enc3))  # Output: (256, 8, 16, 8)\n",
    "        \n",
    "        # Bottleneck\n",
    "        bottleneck = self.bottleneck(self.pool(enc4))  # Output: (512, 4, 8, 4)\n",
    "        \n",
    "        # Decoder\n",
    "        dec4 = self.upconv4(bottleneck)  # Output: (256, 8, 16, 8)\n",
    "        dec4 = self.dec4(torch.cat((dec4, enc4), dim=1))  # Skip connection\n",
    "        \n",
    "        dec3 = self.upconv3(dec4)  # Output: (128, 16, 32, 16)\n",
    "        dec3 = self.dec3(torch.cat((dec3, enc3), dim=1))  # Skip connection\n",
    "        \n",
    "        dec2 = self.upconv2(dec3)  # Output: (64, 32, 64, 32)\n",
    "        dec2 = self.dec2(torch.cat((dec2, enc2), dim=1))  # Skip connection\n",
    "        \n",
    "        dec1 = self.upconv1(dec2)  # Output: (32, 64, 128, 64)\n",
    "        dec1 = self.dec1(torch.cat((dec1, enc1), dim=1))  # Skip connection\n",
    "        \n",
    "        # Final output layer\n",
    "        out = self.final(dec1)  # Output: (1, 64, 128, 64)\n",
    "        \n",
    "        return self.sigmoid(out)"
   ],
   "id": "c32411c5ebf8f309",
   "outputs": [],
   "execution_count": 2
  },
  {
   "metadata": {
    "ExecuteTime": {
     "end_time": "2025-01-24T15:14:26.471505Z",
     "start_time": "2025-01-24T15:14:26.460473Z"
    }
   },
   "cell_type": "code",
   "source": [
    "\"\"\"\n",
    "Returns the tensor given a point cloud.\n",
    "Also uses min and max bound to avoid empty space in the tensor/pcd\n",
    "copied from: alex_ml_model_experiments_voxel_grid notebook dataset class\n",
    "\"\"\"\n",
    "def get_3d_tensor_from_pcd(pcd):\n",
    "        points = np.asarray(pcd.points)\n",
    "        min_bound = np.min(points, axis=0)\n",
    "        max_bound = np.max(points, axis=0)\n",
    "        grid_size = 32 # TODO IN PARAMS\n",
    "        voxel_size = (max_bound - min_bound) / grid_size\n",
    "        \n",
    "        normalized_points = (points - min_bound) / voxel_size\n",
    "        grid_points = np.floor(normalized_points).astype(int)\n",
    "        grid_points = np.clip(grid_points, 0, grid_size - 1)\n",
    "        grid_tensor = torch.zeros((grid_size, grid_size, grid_size), dtype=torch.int32)\n",
    "        for point in grid_points:\n",
    "            grid_tensor[tuple(point)] = 1\n",
    "        return grid_tensor.float()\n",
    "\n",
    "def visualize_3d_tensor(voxel_tensor, threshold=0.5):\n",
    "    normalized_tensor = torch.where(voxel_tensor > threshold, 1, 0)\n",
    "    occupied_indices = np.argwhere(normalized_tensor.numpy() > 0)\n",
    "    point_cloud = o3d.geometry.PointCloud()\n",
    "    point_cloud.points = o3d.utility.Vector3dVector(occupied_indices)\n",
    "    o3d.visualization.draw_geometries([point_cloud], width=500, height=500)\n",
    "\n",
    "\"\"\"\n",
    "Visualize the results of a PCD using a given model\n",
    "\"\"\"\n",
    "def predict_and_visualize(input_pcd_path, truth_pcd_path, model, threshold=0.5):\n",
    "    input_pcd = o3d.io.read_point_cloud(input_pcd_path)\n",
    "    truth_pcd = o3d.io.read_point_cloud(truth_pcd_path)\n",
    "    input_tensor = get_3d_tensor_from_pcd(input_pcd).to(device)\n",
    "    if truth_pcd_path != \"\":\n",
    "        truth_tensor = get_3d_tensor_from_pcd(truth_pcd).to(device)\n",
    "    \n",
    "    model.eval()\n",
    "    with torch.no_grad():\n",
    "        input_tensor = input_tensor.unsqueeze(0).unsqueeze(0) # Add batch dimension + channel\n",
    "        reconstructed_tensor = model(input_tensor)\n",
    "        # Visualize\n",
    "        voxel_tensor = input_tensor.squeeze(0).squeeze(0).cpu()\n",
    "        visualize_3d_tensor(voxel_tensor, threshold)\n",
    "        voxel_tensor = reconstructed_tensor.squeeze(0).squeeze(0).cpu()\n",
    "        visualize_3d_tensor(voxel_tensor, threshold)\n",
    "        #print(truth_tensor.shape)\n",
    "        if truth_tensor is not None:\n",
    "            visualize_3d_tensor(truth_tensor.cpu())\n",
    "        "
   ],
   "id": "a300acc4df5f3a32",
   "outputs": [],
   "execution_count": 3
  },
  {
   "metadata": {
    "ExecuteTime": {
     "end_time": "2025-01-24T15:15:44.506474Z",
     "start_time": "2025-01-24T15:15:43.824141Z"
    }
   },
   "cell_type": "code",
   "source": [
    "# If the whole model was saved\n",
    "#model = torch.load(\"../assets/model_exports/model_epoch_9.pth\")\n",
    "#model = torch.load(\"../models/voxel_weights_6.pth\")\n",
    "#model = model.to(device)\n",
    "\n",
    "# If only the state dict was saved\n",
    "model = VoxelAutoEncoder()\n",
    "state_dict = torch.load(\"../models/voxel_weights_6.pth\")\n",
    "model.load_state_dict(state_dict)"
   ],
   "id": "29d4fc7141061c0f",
   "outputs": [
    {
     "name": "stderr",
     "output_type": "stream",
     "text": [
      "C:\\Users\\alex\\AppData\\Local\\Temp\\ipykernel_7292\\1072351577.py:8: FutureWarning: You are using `torch.load` with `weights_only=False` (the current default value), which uses the default pickle module implicitly. It is possible to construct malicious pickle data which will execute arbitrary code during unpickling (See https://github.com/pytorch/pytorch/blob/main/SECURITY.md#untrusted-models for more details). In a future release, the default value for `weights_only` will be flipped to `True`. This limits the functions that could be executed during unpickling. Arbitrary objects will no longer be allowed to be loaded via this mode unless they are explicitly allowlisted by the user via `torch.serialization.add_safe_globals`. We recommend you start setting `weights_only=True` for any use case where you don't have full control of the loaded file. Please open an issue on GitHub for any issues related to this experimental feature.\n",
      "  state_dict = torch.load(\"../models/voxel_weights_6.pth\")\n"
     ]
    },
    {
     "data": {
      "text/plain": [
       "<All keys matched successfully>"
      ]
     },
     "execution_count": 7,
     "metadata": {},
     "output_type": "execute_result"
    }
   ],
   "execution_count": 7
  },
  {
   "metadata": {
    "ExecuteTime": {
     "end_time": "2025-01-24T15:16:01.534302Z",
     "start_time": "2025-01-24T15:16:01.528776Z"
    }
   },
   "cell_type": "code",
   "source": "#torch.save(model.state_dict(), f'./state_dict_alex_model_v2.pth')",
   "id": "f787b966c1672b9b",
   "outputs": [],
   "execution_count": 8
  },
  {
   "metadata": {
    "ExecuteTime": {
     "end_time": "2025-01-24T15:16:04.734276Z",
     "start_time": "2025-01-24T15:16:03.765850Z"
    }
   },
   "cell_type": "code",
   "source": [
    "input_path = \"../assets/voxel32/4_cut.ply\"\n",
    "full_path = \"../assets/voxel32/4_full.ply\"\n",
    "predict_and_visualize(input_path, full_path, model, threshold=0.2)\n",
    "\n",
    "#input_path = \"../assets/unclean-estimated-pcds/pc_generator_frame_50.ply\"\n",
    "#full_path = \"\"\n",
    "#predict_and_visualize(input_path, full_path, model, threshold=0.2)"
   ],
   "id": "4b5568f3aa7e8d1b",
   "outputs": [
    {
     "ename": "RuntimeError",
     "evalue": "Input type (torch.cuda.FloatTensor) and weight type (torch.FloatTensor) should be the same",
     "output_type": "error",
     "traceback": [
      "\u001B[1;31m---------------------------------------------------------------------------\u001B[0m",
      "\u001B[1;31mRuntimeError\u001B[0m                              Traceback (most recent call last)",
      "Cell \u001B[1;32mIn[9], line 3\u001B[0m\n\u001B[0;32m      1\u001B[0m input_path \u001B[38;5;241m=\u001B[39m \u001B[38;5;124m\"\u001B[39m\u001B[38;5;124m../assets/voxel32/4_cut.ply\u001B[39m\u001B[38;5;124m\"\u001B[39m\n\u001B[0;32m      2\u001B[0m full_path \u001B[38;5;241m=\u001B[39m \u001B[38;5;124m\"\u001B[39m\u001B[38;5;124m../assets/voxel32/4_full.ply\u001B[39m\u001B[38;5;124m\"\u001B[39m\n\u001B[1;32m----> 3\u001B[0m \u001B[43mpredict_and_visualize\u001B[49m\u001B[43m(\u001B[49m\u001B[43minput_path\u001B[49m\u001B[43m,\u001B[49m\u001B[43m \u001B[49m\u001B[43mfull_path\u001B[49m\u001B[43m,\u001B[49m\u001B[43m \u001B[49m\u001B[43mmodel\u001B[49m\u001B[43m,\u001B[49m\u001B[43m \u001B[49m\u001B[43mthreshold\u001B[49m\u001B[38;5;241;43m=\u001B[39;49m\u001B[38;5;241;43m0.2\u001B[39;49m\u001B[43m)\u001B[49m\n",
      "Cell \u001B[1;32mIn[3], line 41\u001B[0m, in \u001B[0;36mpredict_and_visualize\u001B[1;34m(input_pcd_path, truth_pcd_path, model, threshold)\u001B[0m\n\u001B[0;32m     39\u001B[0m \u001B[38;5;28;01mwith\u001B[39;00m torch\u001B[38;5;241m.\u001B[39mno_grad():\n\u001B[0;32m     40\u001B[0m     input_tensor \u001B[38;5;241m=\u001B[39m input_tensor\u001B[38;5;241m.\u001B[39munsqueeze(\u001B[38;5;241m0\u001B[39m)\u001B[38;5;241m.\u001B[39munsqueeze(\u001B[38;5;241m0\u001B[39m) \u001B[38;5;66;03m# Add batch dimension + channel\u001B[39;00m\n\u001B[1;32m---> 41\u001B[0m     reconstructed_tensor \u001B[38;5;241m=\u001B[39m \u001B[43mmodel\u001B[49m\u001B[43m(\u001B[49m\u001B[43minput_tensor\u001B[49m\u001B[43m)\u001B[49m\n\u001B[0;32m     42\u001B[0m     \u001B[38;5;66;03m# Visualize\u001B[39;00m\n\u001B[0;32m     43\u001B[0m     voxel_tensor \u001B[38;5;241m=\u001B[39m input_tensor\u001B[38;5;241m.\u001B[39msqueeze(\u001B[38;5;241m0\u001B[39m)\u001B[38;5;241m.\u001B[39msqueeze(\u001B[38;5;241m0\u001B[39m)\u001B[38;5;241m.\u001B[39mcpu()\n",
      "File \u001B[1;32m~\\anaconda3\\envs\\ods\\lib\\site-packages\\torch\\nn\\modules\\module.py:1736\u001B[0m, in \u001B[0;36mModule._wrapped_call_impl\u001B[1;34m(self, *args, **kwargs)\u001B[0m\n\u001B[0;32m   1734\u001B[0m     \u001B[38;5;28;01mreturn\u001B[39;00m \u001B[38;5;28mself\u001B[39m\u001B[38;5;241m.\u001B[39m_compiled_call_impl(\u001B[38;5;241m*\u001B[39margs, \u001B[38;5;241m*\u001B[39m\u001B[38;5;241m*\u001B[39mkwargs)  \u001B[38;5;66;03m# type: ignore[misc]\u001B[39;00m\n\u001B[0;32m   1735\u001B[0m \u001B[38;5;28;01melse\u001B[39;00m:\n\u001B[1;32m-> 1736\u001B[0m     \u001B[38;5;28;01mreturn\u001B[39;00m \u001B[38;5;28mself\u001B[39m\u001B[38;5;241m.\u001B[39m_call_impl(\u001B[38;5;241m*\u001B[39margs, \u001B[38;5;241m*\u001B[39m\u001B[38;5;241m*\u001B[39mkwargs)\n",
      "File \u001B[1;32m~\\anaconda3\\envs\\ods\\lib\\site-packages\\torch\\nn\\modules\\module.py:1747\u001B[0m, in \u001B[0;36mModule._call_impl\u001B[1;34m(self, *args, **kwargs)\u001B[0m\n\u001B[0;32m   1742\u001B[0m \u001B[38;5;66;03m# If we don't have any hooks, we want to skip the rest of the logic in\u001B[39;00m\n\u001B[0;32m   1743\u001B[0m \u001B[38;5;66;03m# this function, and just call forward.\u001B[39;00m\n\u001B[0;32m   1744\u001B[0m \u001B[38;5;28;01mif\u001B[39;00m \u001B[38;5;129;01mnot\u001B[39;00m (\u001B[38;5;28mself\u001B[39m\u001B[38;5;241m.\u001B[39m_backward_hooks \u001B[38;5;129;01mor\u001B[39;00m \u001B[38;5;28mself\u001B[39m\u001B[38;5;241m.\u001B[39m_backward_pre_hooks \u001B[38;5;129;01mor\u001B[39;00m \u001B[38;5;28mself\u001B[39m\u001B[38;5;241m.\u001B[39m_forward_hooks \u001B[38;5;129;01mor\u001B[39;00m \u001B[38;5;28mself\u001B[39m\u001B[38;5;241m.\u001B[39m_forward_pre_hooks\n\u001B[0;32m   1745\u001B[0m         \u001B[38;5;129;01mor\u001B[39;00m _global_backward_pre_hooks \u001B[38;5;129;01mor\u001B[39;00m _global_backward_hooks\n\u001B[0;32m   1746\u001B[0m         \u001B[38;5;129;01mor\u001B[39;00m _global_forward_hooks \u001B[38;5;129;01mor\u001B[39;00m _global_forward_pre_hooks):\n\u001B[1;32m-> 1747\u001B[0m     \u001B[38;5;28;01mreturn\u001B[39;00m forward_call(\u001B[38;5;241m*\u001B[39margs, \u001B[38;5;241m*\u001B[39m\u001B[38;5;241m*\u001B[39mkwargs)\n\u001B[0;32m   1749\u001B[0m result \u001B[38;5;241m=\u001B[39m \u001B[38;5;28;01mNone\u001B[39;00m\n\u001B[0;32m   1750\u001B[0m called_always_called_hooks \u001B[38;5;241m=\u001B[39m \u001B[38;5;28mset\u001B[39m()\n",
      "Cell \u001B[1;32mIn[2], line 49\u001B[0m, in \u001B[0;36mVoxelAutoEncoder.forward\u001B[1;34m(self, x)\u001B[0m\n\u001B[0;32m     47\u001B[0m \u001B[38;5;28;01mdef\u001B[39;00m \u001B[38;5;21mforward\u001B[39m(\u001B[38;5;28mself\u001B[39m, x):\n\u001B[0;32m     48\u001B[0m     \u001B[38;5;66;03m# Encoder\u001B[39;00m\n\u001B[1;32m---> 49\u001B[0m     enc1 \u001B[38;5;241m=\u001B[39m \u001B[38;5;28;43mself\u001B[39;49m\u001B[38;5;241;43m.\u001B[39;49m\u001B[43menc1\u001B[49m\u001B[43m(\u001B[49m\u001B[43mx\u001B[49m\u001B[43m)\u001B[49m  \u001B[38;5;66;03m# Output: (32, 64, 128, 64)\u001B[39;00m\n\u001B[0;32m     50\u001B[0m     enc2 \u001B[38;5;241m=\u001B[39m \u001B[38;5;28mself\u001B[39m\u001B[38;5;241m.\u001B[39menc2(\u001B[38;5;28mself\u001B[39m\u001B[38;5;241m.\u001B[39mpool(enc1))  \u001B[38;5;66;03m# Output: (64, 32, 64, 32)\u001B[39;00m\n\u001B[0;32m     51\u001B[0m     enc3 \u001B[38;5;241m=\u001B[39m \u001B[38;5;28mself\u001B[39m\u001B[38;5;241m.\u001B[39menc3(\u001B[38;5;28mself\u001B[39m\u001B[38;5;241m.\u001B[39mpool(enc2))  \u001B[38;5;66;03m# Output: (128, 16, 32, 16)\u001B[39;00m\n",
      "File \u001B[1;32m~\\anaconda3\\envs\\ods\\lib\\site-packages\\torch\\nn\\modules\\module.py:1736\u001B[0m, in \u001B[0;36mModule._wrapped_call_impl\u001B[1;34m(self, *args, **kwargs)\u001B[0m\n\u001B[0;32m   1734\u001B[0m     \u001B[38;5;28;01mreturn\u001B[39;00m \u001B[38;5;28mself\u001B[39m\u001B[38;5;241m.\u001B[39m_compiled_call_impl(\u001B[38;5;241m*\u001B[39margs, \u001B[38;5;241m*\u001B[39m\u001B[38;5;241m*\u001B[39mkwargs)  \u001B[38;5;66;03m# type: ignore[misc]\u001B[39;00m\n\u001B[0;32m   1735\u001B[0m \u001B[38;5;28;01melse\u001B[39;00m:\n\u001B[1;32m-> 1736\u001B[0m     \u001B[38;5;28;01mreturn\u001B[39;00m \u001B[38;5;28mself\u001B[39m\u001B[38;5;241m.\u001B[39m_call_impl(\u001B[38;5;241m*\u001B[39margs, \u001B[38;5;241m*\u001B[39m\u001B[38;5;241m*\u001B[39mkwargs)\n",
      "File \u001B[1;32m~\\anaconda3\\envs\\ods\\lib\\site-packages\\torch\\nn\\modules\\module.py:1747\u001B[0m, in \u001B[0;36mModule._call_impl\u001B[1;34m(self, *args, **kwargs)\u001B[0m\n\u001B[0;32m   1742\u001B[0m \u001B[38;5;66;03m# If we don't have any hooks, we want to skip the rest of the logic in\u001B[39;00m\n\u001B[0;32m   1743\u001B[0m \u001B[38;5;66;03m# this function, and just call forward.\u001B[39;00m\n\u001B[0;32m   1744\u001B[0m \u001B[38;5;28;01mif\u001B[39;00m \u001B[38;5;129;01mnot\u001B[39;00m (\u001B[38;5;28mself\u001B[39m\u001B[38;5;241m.\u001B[39m_backward_hooks \u001B[38;5;129;01mor\u001B[39;00m \u001B[38;5;28mself\u001B[39m\u001B[38;5;241m.\u001B[39m_backward_pre_hooks \u001B[38;5;129;01mor\u001B[39;00m \u001B[38;5;28mself\u001B[39m\u001B[38;5;241m.\u001B[39m_forward_hooks \u001B[38;5;129;01mor\u001B[39;00m \u001B[38;5;28mself\u001B[39m\u001B[38;5;241m.\u001B[39m_forward_pre_hooks\n\u001B[0;32m   1745\u001B[0m         \u001B[38;5;129;01mor\u001B[39;00m _global_backward_pre_hooks \u001B[38;5;129;01mor\u001B[39;00m _global_backward_hooks\n\u001B[0;32m   1746\u001B[0m         \u001B[38;5;129;01mor\u001B[39;00m _global_forward_hooks \u001B[38;5;129;01mor\u001B[39;00m _global_forward_pre_hooks):\n\u001B[1;32m-> 1747\u001B[0m     \u001B[38;5;28;01mreturn\u001B[39;00m forward_call(\u001B[38;5;241m*\u001B[39margs, \u001B[38;5;241m*\u001B[39m\u001B[38;5;241m*\u001B[39mkwargs)\n\u001B[0;32m   1749\u001B[0m result \u001B[38;5;241m=\u001B[39m \u001B[38;5;28;01mNone\u001B[39;00m\n\u001B[0;32m   1750\u001B[0m called_always_called_hooks \u001B[38;5;241m=\u001B[39m \u001B[38;5;28mset\u001B[39m()\n",
      "File \u001B[1;32m~\\anaconda3\\envs\\ods\\lib\\site-packages\\torch\\nn\\modules\\container.py:250\u001B[0m, in \u001B[0;36mSequential.forward\u001B[1;34m(self, input)\u001B[0m\n\u001B[0;32m    248\u001B[0m \u001B[38;5;28;01mdef\u001B[39;00m \u001B[38;5;21mforward\u001B[39m(\u001B[38;5;28mself\u001B[39m, \u001B[38;5;28minput\u001B[39m):\n\u001B[0;32m    249\u001B[0m     \u001B[38;5;28;01mfor\u001B[39;00m module \u001B[38;5;129;01min\u001B[39;00m \u001B[38;5;28mself\u001B[39m:\n\u001B[1;32m--> 250\u001B[0m         \u001B[38;5;28minput\u001B[39m \u001B[38;5;241m=\u001B[39m \u001B[43mmodule\u001B[49m\u001B[43m(\u001B[49m\u001B[38;5;28;43minput\u001B[39;49m\u001B[43m)\u001B[49m\n\u001B[0;32m    251\u001B[0m     \u001B[38;5;28;01mreturn\u001B[39;00m \u001B[38;5;28minput\u001B[39m\n",
      "File \u001B[1;32m~\\anaconda3\\envs\\ods\\lib\\site-packages\\torch\\nn\\modules\\module.py:1736\u001B[0m, in \u001B[0;36mModule._wrapped_call_impl\u001B[1;34m(self, *args, **kwargs)\u001B[0m\n\u001B[0;32m   1734\u001B[0m     \u001B[38;5;28;01mreturn\u001B[39;00m \u001B[38;5;28mself\u001B[39m\u001B[38;5;241m.\u001B[39m_compiled_call_impl(\u001B[38;5;241m*\u001B[39margs, \u001B[38;5;241m*\u001B[39m\u001B[38;5;241m*\u001B[39mkwargs)  \u001B[38;5;66;03m# type: ignore[misc]\u001B[39;00m\n\u001B[0;32m   1735\u001B[0m \u001B[38;5;28;01melse\u001B[39;00m:\n\u001B[1;32m-> 1736\u001B[0m     \u001B[38;5;28;01mreturn\u001B[39;00m \u001B[38;5;28mself\u001B[39m\u001B[38;5;241m.\u001B[39m_call_impl(\u001B[38;5;241m*\u001B[39margs, \u001B[38;5;241m*\u001B[39m\u001B[38;5;241m*\u001B[39mkwargs)\n",
      "File \u001B[1;32m~\\anaconda3\\envs\\ods\\lib\\site-packages\\torch\\nn\\modules\\module.py:1747\u001B[0m, in \u001B[0;36mModule._call_impl\u001B[1;34m(self, *args, **kwargs)\u001B[0m\n\u001B[0;32m   1742\u001B[0m \u001B[38;5;66;03m# If we don't have any hooks, we want to skip the rest of the logic in\u001B[39;00m\n\u001B[0;32m   1743\u001B[0m \u001B[38;5;66;03m# this function, and just call forward.\u001B[39;00m\n\u001B[0;32m   1744\u001B[0m \u001B[38;5;28;01mif\u001B[39;00m \u001B[38;5;129;01mnot\u001B[39;00m (\u001B[38;5;28mself\u001B[39m\u001B[38;5;241m.\u001B[39m_backward_hooks \u001B[38;5;129;01mor\u001B[39;00m \u001B[38;5;28mself\u001B[39m\u001B[38;5;241m.\u001B[39m_backward_pre_hooks \u001B[38;5;129;01mor\u001B[39;00m \u001B[38;5;28mself\u001B[39m\u001B[38;5;241m.\u001B[39m_forward_hooks \u001B[38;5;129;01mor\u001B[39;00m \u001B[38;5;28mself\u001B[39m\u001B[38;5;241m.\u001B[39m_forward_pre_hooks\n\u001B[0;32m   1745\u001B[0m         \u001B[38;5;129;01mor\u001B[39;00m _global_backward_pre_hooks \u001B[38;5;129;01mor\u001B[39;00m _global_backward_hooks\n\u001B[0;32m   1746\u001B[0m         \u001B[38;5;129;01mor\u001B[39;00m _global_forward_hooks \u001B[38;5;129;01mor\u001B[39;00m _global_forward_pre_hooks):\n\u001B[1;32m-> 1747\u001B[0m     \u001B[38;5;28;01mreturn\u001B[39;00m forward_call(\u001B[38;5;241m*\u001B[39margs, \u001B[38;5;241m*\u001B[39m\u001B[38;5;241m*\u001B[39mkwargs)\n\u001B[0;32m   1749\u001B[0m result \u001B[38;5;241m=\u001B[39m \u001B[38;5;28;01mNone\u001B[39;00m\n\u001B[0;32m   1750\u001B[0m called_always_called_hooks \u001B[38;5;241m=\u001B[39m \u001B[38;5;28mset\u001B[39m()\n",
      "File \u001B[1;32m~\\anaconda3\\envs\\ods\\lib\\site-packages\\torch\\nn\\modules\\conv.py:725\u001B[0m, in \u001B[0;36mConv3d.forward\u001B[1;34m(self, input)\u001B[0m\n\u001B[0;32m    724\u001B[0m \u001B[38;5;28;01mdef\u001B[39;00m \u001B[38;5;21mforward\u001B[39m(\u001B[38;5;28mself\u001B[39m, \u001B[38;5;28minput\u001B[39m: Tensor) \u001B[38;5;241m-\u001B[39m\u001B[38;5;241m>\u001B[39m Tensor:\n\u001B[1;32m--> 725\u001B[0m     \u001B[38;5;28;01mreturn\u001B[39;00m \u001B[38;5;28;43mself\u001B[39;49m\u001B[38;5;241;43m.\u001B[39;49m\u001B[43m_conv_forward\u001B[49m\u001B[43m(\u001B[49m\u001B[38;5;28;43minput\u001B[39;49m\u001B[43m,\u001B[49m\u001B[43m \u001B[49m\u001B[38;5;28;43mself\u001B[39;49m\u001B[38;5;241;43m.\u001B[39;49m\u001B[43mweight\u001B[49m\u001B[43m,\u001B[49m\u001B[43m \u001B[49m\u001B[38;5;28;43mself\u001B[39;49m\u001B[38;5;241;43m.\u001B[39;49m\u001B[43mbias\u001B[49m\u001B[43m)\u001B[49m\n",
      "File \u001B[1;32m~\\anaconda3\\envs\\ods\\lib\\site-packages\\torch\\nn\\modules\\conv.py:720\u001B[0m, in \u001B[0;36mConv3d._conv_forward\u001B[1;34m(self, input, weight, bias)\u001B[0m\n\u001B[0;32m    708\u001B[0m \u001B[38;5;28;01mif\u001B[39;00m \u001B[38;5;28mself\u001B[39m\u001B[38;5;241m.\u001B[39mpadding_mode \u001B[38;5;241m!=\u001B[39m \u001B[38;5;124m\"\u001B[39m\u001B[38;5;124mzeros\u001B[39m\u001B[38;5;124m\"\u001B[39m:\n\u001B[0;32m    709\u001B[0m     \u001B[38;5;28;01mreturn\u001B[39;00m F\u001B[38;5;241m.\u001B[39mconv3d(\n\u001B[0;32m    710\u001B[0m         F\u001B[38;5;241m.\u001B[39mpad(\n\u001B[0;32m    711\u001B[0m             \u001B[38;5;28minput\u001B[39m, \u001B[38;5;28mself\u001B[39m\u001B[38;5;241m.\u001B[39m_reversed_padding_repeated_twice, mode\u001B[38;5;241m=\u001B[39m\u001B[38;5;28mself\u001B[39m\u001B[38;5;241m.\u001B[39mpadding_mode\n\u001B[1;32m   (...)\u001B[0m\n\u001B[0;32m    718\u001B[0m         \u001B[38;5;28mself\u001B[39m\u001B[38;5;241m.\u001B[39mgroups,\n\u001B[0;32m    719\u001B[0m     )\n\u001B[1;32m--> 720\u001B[0m \u001B[38;5;28;01mreturn\u001B[39;00m \u001B[43mF\u001B[49m\u001B[38;5;241;43m.\u001B[39;49m\u001B[43mconv3d\u001B[49m\u001B[43m(\u001B[49m\n\u001B[0;32m    721\u001B[0m \u001B[43m    \u001B[49m\u001B[38;5;28;43minput\u001B[39;49m\u001B[43m,\u001B[49m\u001B[43m \u001B[49m\u001B[43mweight\u001B[49m\u001B[43m,\u001B[49m\u001B[43m \u001B[49m\u001B[43mbias\u001B[49m\u001B[43m,\u001B[49m\u001B[43m \u001B[49m\u001B[38;5;28;43mself\u001B[39;49m\u001B[38;5;241;43m.\u001B[39;49m\u001B[43mstride\u001B[49m\u001B[43m,\u001B[49m\u001B[43m \u001B[49m\u001B[38;5;28;43mself\u001B[39;49m\u001B[38;5;241;43m.\u001B[39;49m\u001B[43mpadding\u001B[49m\u001B[43m,\u001B[49m\u001B[43m \u001B[49m\u001B[38;5;28;43mself\u001B[39;49m\u001B[38;5;241;43m.\u001B[39;49m\u001B[43mdilation\u001B[49m\u001B[43m,\u001B[49m\u001B[43m \u001B[49m\u001B[38;5;28;43mself\u001B[39;49m\u001B[38;5;241;43m.\u001B[39;49m\u001B[43mgroups\u001B[49m\n\u001B[0;32m    722\u001B[0m \u001B[43m\u001B[49m\u001B[43m)\u001B[49m\n",
      "\u001B[1;31mRuntimeError\u001B[0m: Input type (torch.cuda.FloatTensor) and weight type (torch.FloatTensor) should be the same"
     ]
    }
   ],
   "execution_count": 9
  },
  {
   "metadata": {},
   "cell_type": "code",
   "outputs": [],
   "execution_count": null,
   "source": "",
   "id": "367d1909dfab14d9"
  }
 ],
 "metadata": {
  "kernelspec": {
   "display_name": "Python 3",
   "language": "python",
   "name": "python3"
  },
  "language_info": {
   "codemirror_mode": {
    "name": "ipython",
    "version": 2
   },
   "file_extension": ".py",
   "mimetype": "text/x-python",
   "name": "python",
   "nbconvert_exporter": "python",
   "pygments_lexer": "ipython2",
   "version": "2.7.6"
  }
 },
 "nbformat": 4,
 "nbformat_minor": 5
}
