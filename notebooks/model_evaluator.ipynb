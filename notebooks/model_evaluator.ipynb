{
 "cells": [
  {
   "metadata": {},
   "cell_type": "markdown",
   "source": [
    "# Model Evaluator\n",
    "Use This Notebook to evaluate model runs."
   ],
   "id": "40114f1d8b017f86"
  },
  {
   "metadata": {
    "ExecuteTime": {
     "end_time": "2025-01-20T08:37:10.174256Z",
     "start_time": "2025-01-20T08:37:10.158070Z"
    }
   },
   "cell_type": "code",
   "source": [
    "import torch\n",
    "import torch.nn as nn\n",
    "import open3d as o3d\n",
    "import os\n",
    "import cv2\n",
    "import matplotlib.pyplot as plt\n",
    "import numpy as np\n",
    "\n",
    "device = 'cuda' if torch.cuda.is_available() else 'cpu'"
   ],
   "id": "initial_id",
   "outputs": [],
   "execution_count": 17
  },
  {
   "metadata": {
    "ExecuteTime": {
     "end_time": "2025-01-20T08:37:10.629719Z",
     "start_time": "2025-01-20T08:37:10.609954Z"
    }
   },
   "cell_type": "code",
   "source": [
    "class MaskedPointCloudEncoderDecoder(nn.Module):\n",
    "    def __init__(self, input_dim=32):\n",
    "        super(MaskedPointCloudEncoderDecoder, self).__init__()\n",
    "\n",
    "        # Encoder: Maps input point cloud to a latent representation\n",
    "        self.encoder = nn.Sequential(\n",
    "            nn.Conv3d(1, 16, kernel_size=3, stride=2, padding=1),\n",
    "            nn.BatchNorm3d(16),\n",
    "            nn.ReLU(inplace=True),\n",
    "            nn.Conv3d(16, 16, kernel_size=3, stride=2, padding=1),\n",
    "            nn.ReLU(inplace=True),\n",
    "            nn.Conv3d(16, 32, kernel_size=3, stride=1, padding=1),\n",
    "            nn.ReLU(inplace=True),\n",
    "            nn.Conv3d(32, 32, kernel_size=3, stride=2, padding=1),\n",
    "            nn.ReLU(inplace=True),\n",
    "        )\n",
    "\n",
    "        stride_factor = 2*2*2\n",
    "\n",
    "        # Fully connected layers to create a bottleneck\n",
    "        grid_count = (input_dim // stride_factor) ** 3 # 4 = amount of padding (multiply them)\n",
    "        self.flatBottleneck = nn.Sequential(\n",
    "            nn.Flatten(),  # Flatten to (N, 64 * grid_count)\n",
    "            nn.Dropout(p=0.2),\n",
    "            nn.Linear(32 * grid_count, 16 * grid_count),\n",
    "            nn.ReLU(inplace=True),\n",
    "            nn.Dropout(p=0.2),\n",
    "            nn.Linear(16 * grid_count, 16 * grid_count),\n",
    "            nn.BatchNorm1d(16 * grid_count),\n",
    "            nn.ReLU(inplace=True),\n",
    "            nn.Dropout(p=0.2),\n",
    "            nn.Linear(16 * grid_count, 32 * grid_count),\n",
    "            nn.ReLU(inplace=True),\n",
    "            nn.Unflatten(dim=1, unflattened_size=(32, input_dim // stride_factor, input_dim // stride_factor, input_dim // stride_factor))  # Reshape back\n",
    "        )\n",
    "\n",
    "        # Decoder: Maps latent representation back to point cloud\n",
    "        self.decoder = nn.Sequential(\n",
    "            nn.ConvTranspose3d(32, 32, kernel_size=3, stride=2, padding=1, output_padding=1),\n",
    "            nn.ReLU(inplace=True),\n",
    "            nn.ConvTranspose3d(32, 16, kernel_size=3, stride=1, padding=1),\n",
    "            nn.ReLU(inplace=True),\n",
    "            nn.ConvTranspose3d(16, 16, kernel_size=3, stride=2, padding=1, output_padding=1),\n",
    "            nn.BatchNorm3d(16),\n",
    "            nn.ReLU(inplace=True),\n",
    "            nn.ConvTranspose3d(16, 1, kernel_size=3, stride=2, padding=1, output_padding=1),\n",
    "            nn.Sigmoid(),  # Output values in [0, 1]\n",
    "        )\n",
    "\n",
    "    def forward(self, x):\n",
    "        original_input = x  # Save the original input to use for masking\n",
    "\n",
    "        x = self.encoder(x)  # Encode spatial features\n",
    "        x = self.flatBottleneck(x)\n",
    "        x = self.decoder(x)  # Decode back to voxel grid\n",
    "\n",
    "        # Mask for original voxels that are 1\n",
    "        mask = original_input > 0.8\n",
    "        x = torch.where(mask, torch.tensor(1.0).to(x.device), x)\n",
    "        return x"
   ],
   "id": "c32411c5ebf8f309",
   "outputs": [],
   "execution_count": 18
  },
  {
   "metadata": {
    "ExecuteTime": {
     "end_time": "2025-01-20T08:37:11.189950Z",
     "start_time": "2025-01-20T08:37:11.170438Z"
    }
   },
   "cell_type": "code",
   "source": [
    "\"\"\"\n",
    "Returns the tensor given a point cloud.\n",
    "Also uses min and max bound to avoid empty space in the tensor/pcd\n",
    "copied from: alex_ml_model_experiments_voxel_grid notebook dataset class\n",
    "\"\"\"\n",
    "def get_3d_tensor_from_pcd(pcd):\n",
    "        points = np.asarray(pcd.points)\n",
    "        min_bound = np.min(points, axis=0)\n",
    "        max_bound = np.max(points, axis=0)\n",
    "        grid_size = 32 # TODO IN PARAMS\n",
    "        voxel_size = (max_bound - min_bound) / grid_size\n",
    "        \n",
    "        normalized_points = (points - min_bound) / voxel_size\n",
    "        grid_points = np.floor(normalized_points).astype(int)\n",
    "        grid_points = np.clip(grid_points, 0, grid_size - 1)\n",
    "        grid_tensor = torch.zeros((grid_size, grid_size, grid_size), dtype=torch.int32)\n",
    "        for point in grid_points:\n",
    "            grid_tensor[tuple(point)] = 1\n",
    "        return grid_tensor.float()\n",
    "\n",
    "def visualize_3d_tensor(voxel_tensor, threshold=0.5):\n",
    "    normalized_tensor = torch.where(voxel_tensor > threshold, 1, 0)\n",
    "    occupied_indices = np.argwhere(normalized_tensor.numpy() > 0)\n",
    "    point_cloud = o3d.geometry.PointCloud()\n",
    "    point_cloud.points = o3d.utility.Vector3dVector(occupied_indices)\n",
    "    o3d.visualization.draw_geometries([point_cloud], width=500, height=500)\n",
    "\n",
    "\"\"\"\n",
    "Visualize the results of a PCD using a given model\n",
    "\"\"\"\n",
    "def predict_and_visualize(input_pcd_path, truth_pcd_path, model, threshold=0.5):\n",
    "    input_pcd = o3d.io.read_point_cloud(input_pcd_path)\n",
    "    truth_pcd = o3d.io.read_point_cloud(truth_pcd_path)\n",
    "    input_tensor = get_3d_tensor_from_pcd(input_pcd).to(device)\n",
    "    if truth_pcd_path != \"\":\n",
    "        truth_tensor = get_3d_tensor_from_pcd(truth_pcd).to(device)\n",
    "    \n",
    "    model.eval()\n",
    "    with torch.no_grad():\n",
    "        input_tensor = input_tensor.unsqueeze(0).unsqueeze(0) # Add batch dimension + channel\n",
    "        reconstructed_tensor = model(input_tensor)\n",
    "        # Visualize\n",
    "        voxel_tensor = input_tensor.squeeze(0).squeeze(0).cpu()\n",
    "        visualize_3d_tensor(voxel_tensor, threshold)\n",
    "        voxel_tensor = reconstructed_tensor.squeeze(0).squeeze(0).cpu()\n",
    "        visualize_3d_tensor(voxel_tensor, threshold)\n",
    "        #print(truth_tensor.shape)\n",
    "        if truth_tensor is not None:\n",
    "            visualize_3d_tensor(truth_tensor.cpu())\n",
    "        "
   ],
   "id": "a300acc4df5f3a32",
   "outputs": [],
   "execution_count": 19
  },
  {
   "metadata": {
    "ExecuteTime": {
     "end_time": "2025-01-20T08:56:43.635971Z",
     "start_time": "2025-01-20T08:56:43.569760Z"
    }
   },
   "cell_type": "code",
   "source": [
    "# If the whole model was saved\n",
    "#model = torch.load(\"../assets/model_exports/model_epoch_9.pth\")\n",
    "model = torch.load(\"../scripts/alex/model_epoch_2.pth\")\n",
    "model = model.to(device)\n",
    "\n",
    "# If only the state dict was saved\n",
    "#model = PointCloudAutoEncoder()\n",
    "#state_dict = torch.load(\"../assets/model_exports/model_v1.pt\")\n",
    "#model.load_state_dict(state_dict)"
   ],
   "id": "29d4fc7141061c0f",
   "outputs": [
    {
     "name": "stderr",
     "output_type": "stream",
     "text": [
      "C:\\Users\\alex\\AppData\\Local\\Temp\\ipykernel_26544\\3777418722.py:3: FutureWarning: You are using `torch.load` with `weights_only=False` (the current default value), which uses the default pickle module implicitly. It is possible to construct malicious pickle data which will execute arbitrary code during unpickling (See https://github.com/pytorch/pytorch/blob/main/SECURITY.md#untrusted-models for more details). In a future release, the default value for `weights_only` will be flipped to `True`. This limits the functions that could be executed during unpickling. Arbitrary objects will no longer be allowed to be loaded via this mode unless they are explicitly allowlisted by the user via `torch.serialization.add_safe_globals`. We recommend you start setting `weights_only=True` for any use case where you don't have full control of the loaded file. Please open an issue on GitHub for any issues related to this experimental feature.\n",
      "  model = torch.load(\"../scripts/alex/model_epoch_2.pth\")\n"
     ]
    }
   ],
   "execution_count": 29
  },
  {
   "metadata": {
    "ExecuteTime": {
     "end_time": "2025-01-20T08:57:03.907842Z",
     "start_time": "2025-01-20T08:56:44.147318Z"
    }
   },
   "cell_type": "code",
   "source": [
    "input_path = \"../assets/voxel32/20_cut.ply\"\n",
    "full_path = \"../assets/voxel32/20_full.ply\"\n",
    "predict_and_visualize(input_path, full_path, model, threshold=0.2)\n",
    "\n",
    "#input_path = \"../assets/unclean-estimated-pcds/pc_generator_frame_50.ply\"\n",
    "#full_path = \"\"\n",
    "#predict_and_visualize(input_path, full_path, model, threshold=0.2)"
   ],
   "id": "4b5568f3aa7e8d1b",
   "outputs": [],
   "execution_count": 30
  },
  {
   "metadata": {},
   "cell_type": "code",
   "outputs": [],
   "execution_count": null,
   "source": "",
   "id": "367d1909dfab14d9"
  }
 ],
 "metadata": {
  "kernelspec": {
   "display_name": "Python 3",
   "language": "python",
   "name": "python3"
  },
  "language_info": {
   "codemirror_mode": {
    "name": "ipython",
    "version": 2
   },
   "file_extension": ".py",
   "mimetype": "text/x-python",
   "name": "python",
   "nbconvert_exporter": "python",
   "pygments_lexer": "ipython2",
   "version": "2.7.6"
  }
 },
 "nbformat": 4,
 "nbformat_minor": 5
}
