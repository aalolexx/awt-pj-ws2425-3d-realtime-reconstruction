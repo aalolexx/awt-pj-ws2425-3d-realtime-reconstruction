{
 "cells": [
  {
   "cell_type": "code",
   "id": "initial_id",
   "metadata": {
    "ExecuteTime": {
     "end_time": "2025-01-06T13:59:07.102129Z",
     "start_time": "2025-01-06T13:59:06.569365Z"
    }
   },
   "source": [
    "import math\n",
    "\n",
    "import torch\n",
    "import torch.nn as nn\n",
    "import torch.nn.functional as F\n",
    "import open3d as o3d\n",
    "import os\n",
    "import math\n",
    "import cv2\n",
    "import matplotlib.pyplot as plt\n",
    "import numpy as np\n",
    "from torch.utils.data import DataLoader, Dataset, random_split, Subset, SubsetRandomSampler"
   ],
   "outputs": [],
   "execution_count": 4
  },
  {
   "cell_type": "markdown",
   "id": "1105bda5af1b4307",
   "metadata": {},
   "source": [
    "# The Model"
   ]
  },
  {
   "cell_type": "code",
   "execution_count": 2,
   "id": "59e4f371fab4d0ef",
   "metadata": {
    "ExecuteTime": {
     "end_time": "2024-12-15T22:34:21.061164Z",
     "start_time": "2024-12-15T22:34:21.048162Z"
    }
   },
   "outputs": [],
   "source": [
    "class PointCloudAutoEncoder(nn.Module):\n",
    "    def __init__(self, input_dim=32):\n",
    "        super(PointCloudAutoEncoder, self).__init__()\n",
    "\n",
    "        # Encoder: Maps input point cloud to a latent representation\n",
    "        self.encoder = nn.Sequential(\n",
    "            nn.Conv3d(1, 16, kernel_size=3, stride=2, padding=1),  # Output: (32, input_dim/2, input_dim/2, input_dim/2)\n",
    "            nn.ReLU(inplace=True),\n",
    "            nn.Conv3d(16, 32, kernel_size=3, stride=2, padding=1),  # Output: (64, input_dim/4, input_dim/4, input_dim/4)\n",
    "            nn.ReLU(inplace=True),\n",
    "            nn.Conv3d(32, 32, kernel_size=3, stride=1, padding=1),\n",
    "            nn.ReLU(inplace=True),\n",
    "        )\n",
    "\n",
    "        # Fully connected layers to create a bottleneck\n",
    "        grid_count = (input_dim // 4) ** 3\n",
    "        self.flatBottleneck = nn.Sequential(\n",
    "            nn.Flatten(),  # Flatten to (N, 64 * grid_count)\n",
    "            nn.Linear(32 * grid_count, 32 * grid_count),\n",
    "            nn.ReLU(inplace=True),\n",
    "            nn.Linear(32 * grid_count, 32 * grid_count),\n",
    "            nn.ReLU(inplace=True),\n",
    "            nn.Unflatten(dim=1, unflattened_size=(32, input_dim // 4, input_dim // 4, input_dim // 4))  # Reshape back\n",
    "        )\n",
    "        \n",
    "        #self.flatten = nn.Flatten()  # Flatten spatial dimensions\n",
    "        # self.fc1 = nn.Linear(128 * (input_dim // 8) ** 3, 128 * (input_dim // 8) ** 3)\n",
    "        #self.fc2 = nn.Linear(128, 128 * (input_dim // 8) ** 3)\n",
    "        #self.fc3 = nn.Linear( 128 * (input_dim // 8) ** 3, 128 * (input_dim // 8) ** 3)\n",
    "        #self.fc4 = nn.Linear( 128 * (input_dim // 8) ** 3, 128 * (input_dim // 8) ** 3)\n",
    "        #self.unflatten = nn.Unflatten(128 * (input_dim // 8) ** 3, (128, input_dim // 8, input_dim // 8, input_dim // 8))\n",
    "        \n",
    "        # Decoder: Maps latent representation back to point cloud\n",
    "        self.decoder = nn.Sequential(\n",
    "            nn.ConvTranspose3d(32, 32, kernel_size=3, stride=1, padding=1),\n",
    "            nn.ReLU(inplace=True),\n",
    "            nn.ConvTranspose3d(32, 16, kernel_size=3, stride=2, padding=1, output_padding=1),\n",
    "            nn.ReLU(inplace=True),\n",
    "            nn.ConvTranspose3d(16, 1, kernel_size=3, stride=2, padding=1, output_padding=1),\n",
    "            nn.Sigmoid(),  # Output values in [0, 1]\n",
    "        )\n",
    "\n",
    "    def forward(self, x):\n",
    "        x = self.encoder(x)  # Encode spatial features\n",
    "        x = self.flatBottleneck(x)\n",
    "        x = self.decoder(x)  # Decode back to voxel grid\n",
    "        return x"
   ]
  },
  {
   "cell_type": "code",
   "execution_count": 3,
   "id": "a588be6ed7444240",
   "metadata": {
    "ExecuteTime": {
     "end_time": "2024-12-15T22:34:21.660824Z",
     "start_time": "2024-12-15T22:34:21.653823Z"
    }
   },
   "outputs": [],
   "source": [
    "#\n",
    "# LOSS METHODS\n",
    "#\n",
    "\n",
    "from torch.nn import MSELoss\n",
    "from torch.nn import BCELoss\n",
    "\n",
    "\"\"\"\n",
    "COMBINED LOSS\n",
    "\"\"\"\n",
    "def combined_loss(pred, target):\n",
    "    loss_fn = BCELoss()\n",
    "    return loss_fn(pred, target)\n",
    "    "
   ]
  },
  {
   "cell_type": "markdown",
   "id": "fede8cca442fa41c",
   "metadata": {},
   "source": [
    "# Dataset"
   ]
  },
  {
   "cell_type": "code",
   "id": "b8b385aec956ab56",
   "metadata": {
    "ExecuteTime": {
     "end_time": "2025-01-06T16:22:40.586221Z",
     "start_time": "2025-01-06T16:22:40.554115Z"
    }
   },
   "source": [
    "class VoxelGridDataset(Dataset):\n",
    "    def __init__(self, root_dir, split=\"train\",transform=None):\n",
    "        \"\"\"\n",
    "        Args:\n",
    "            root_dir (str): Root directory containing subfolders with .ply files.\n",
    "            split (str): 'train' or 'val'. Determines the file names.\n",
    "            target_points (int): Number of points to standardize the point clouds to.\n",
    "            transform (callable, optional): Optional transform to apply to the point clouds.\n",
    "        \"\"\"\n",
    "        self.root_dir = root_dir\n",
    "        self.split = split\n",
    "        self.transform = transform\n",
    "        self.samples = []\n",
    "        \n",
    "        self.voxel_size = None\n",
    "        self.grid_min_bound = None\n",
    "        self.grid_min_bound = None\n",
    "\n",
    "        # Gather all subfolder paths and corresponding files\n",
    "        \"\"\"\n",
    "        for subfolder in os.listdir(root_dir):\n",
    "            subfolder_path = os.path.join(root_dir, subfolder)\n",
    "            if os.path.isdir(subfolder_path):\n",
    "                incomplete_path = os.path.join(subfolder_path, f\"{subfolder}h.ply\")\n",
    "                ground_truth_path = os.path.join(subfolder_path, f\"{subfolder}.ply\")\n",
    "                if os.path.exists(incomplete_path) and os.path.exists(ground_truth_path):\n",
    "                    self.samples.append((incomplete_path, ground_truth_path))\n",
    "        \"\"\"\n",
    "        \n",
    "        lst = os.listdir(root_dir) # your directory path\n",
    "        number_files = len(lst)\n",
    "\n",
    "        for i in range(math.floor(number_files / 2)):\n",
    "            cut_file_path = os.path.join(root_dir, f\"{i}_cut.ply\")\n",
    "            full_file_path = os.path.join(root_dir, f\"{i}_full.ply\")\n",
    "            if os.path.exists(cut_file_path) and os.path.exists(full_file_path):\n",
    "                self.samples.append((cut_file_path, full_file_path))\n",
    "                    \n",
    "        print(f\"Created dataset with {len(self.samples)} entries\")\n",
    "\n",
    "    def __len__(self):\n",
    "        return len(self.samples)\n",
    "\n",
    "    def __getitem__(self, idx):\n",
    "        # Load the incomplete and ground truth point clouds\n",
    "        incomplete_path, ground_truth_path = self.samples[idx]\n",
    "\n",
    "        incomplete_pcd = o3d.io.read_point_cloud(incomplete_path)\n",
    "        ground_truth_pcd = o3d.io.read_point_cloud(ground_truth_path)\n",
    "\n",
    "        incomplete_points = self.get_3d_tensor_from_pcd(incomplete_pcd)\n",
    "        ground_truth_points = self.get_3d_tensor_from_pcd(ground_truth_pcd)\n",
    "        \n",
    "        # add one color channel for tensor format\n",
    "        incomplete_points = incomplete_points.unsqueeze(0)\n",
    "        ground_truth_points = ground_truth_points.unsqueeze(0) \n",
    "        \n",
    "        # apply gaussian filter as a alternative to signed distance fields\n",
    "        sigma = 1\n",
    "        incomplete_points_sdf = VoxelGridDataset.apply_gaussian_filter_with_preservation(incomplete_points, sigma=sigma)\n",
    "        ground_truth_points_sdf = VoxelGridDataset.apply_gaussian_filter_with_preservation(ground_truth_points, sigma=sigma)\n",
    "\n",
    "        return incomplete_points_sdf, ground_truth_points_sdf\n",
    "    \n",
    "    \n",
    "    def apply_gaussian_filter_with_preservation(voxel_grid, sigma):\n",
    "        \"\"\"\n",
    "        Applies a Gaussian filter to a 3D voxel grid while preserving original values of 1.\n",
    "        Args:\n",
    "            voxel_grid (torch.Tensor): Input tensor of shape (batch, channels, D, H, W).\n",
    "            sigma (float): Standard deviation of the Gaussian kernel.\n",
    "        Returns:\n",
    "            torch.Tensor: Smoothed tensor with original values preserved.\n",
    "        \"\"\"\n",
    "        # Create the 1D Gaussian kernel\n",
    "        size = int(2 * (3 * sigma) + 1)  # Kernel size (3 sigma rule)\n",
    "        x = torch.linspace(-size // 2, size // 2, steps=size)\n",
    "        kernel_1d = torch.exp(-0.5 * (x / sigma)**2)\n",
    "        kernel_1d = kernel_1d / kernel_1d.sum()  # Normalize to ensure sum of 1\n",
    "    \n",
    "        # Create the 3D Gaussian kernel\n",
    "        kernel_3d = torch.einsum('i,j,k->ijk', kernel_1d, kernel_1d, kernel_1d)\n",
    "        kernel_3d = kernel_3d / kernel_3d.sum()  # Normalize again for safety\n",
    "        kernel_3d = kernel_3d.unsqueeze(0).unsqueeze(0)  # Add batch and channel dims\n",
    "    \n",
    "        # Apply Gaussian filter using conv3d\n",
    "        padding = size // 2  # To retain the input size\n",
    "        blurred = F.conv3d(voxel_grid, kernel_3d, padding=padding)\n",
    "        mask = (voxel_grid == 1).float()  # Binary mask where the original values are 1\n",
    "    \n",
    "        # Combine the smoothed field with the original values\n",
    "        result = mask * voxel_grid + (1 - mask) * blurred\n",
    "        \n",
    "        # remove to small values (bad for training)\n",
    "        result[result < 0.1] = 0\n",
    "        \n",
    "        return result\n",
    "    \n",
    "    \n",
    "    def get_3d_tensor_from_pcd(self, pcd):\n",
    "        # Extract the points\n",
    "        points = np.asarray(pcd.points)\n",
    "        # Get the bounding box of the point cloud to determine the extent of the grid\n",
    "        min_bound = np.min(points, axis=0)\n",
    "        max_bound = np.max(points, axis=0)\n",
    "        # Define the resolution of the 3D grid (e.g., 50x50x50 grid)\n",
    "        grid_size = 32 # TODO IN PARAMS\n",
    "        voxel_size = (max_bound - min_bound) / grid_size\n",
    "        \n",
    "        self.voxel_size = voxel_size\n",
    "        self.grid_min_bound = min_bound\n",
    "        self.grid_min_bound = max_bound\n",
    "        \n",
    "        # Normalize the points to the grid space\n",
    "        normalized_points = (points - min_bound) / voxel_size\n",
    "        # Round the points to the nearest grid cell\n",
    "        grid_points = np.floor(normalized_points).astype(int)\n",
    "        # Clamp the values to ensure they stay within grid bounds\n",
    "        grid_points = np.clip(grid_points, 0, grid_size - 1)\n",
    "        # Create the 3D tensor (grid), initially filled with zeros\n",
    "        grid_tensor = torch.zeros((grid_size, grid_size, grid_size), dtype=torch.int32)\n",
    "        # Mark the grid cells corresponding to the points as occupied (1)\n",
    "        for point in grid_points:\n",
    "            grid_tensor[tuple(point)] = 1\n",
    "        return grid_tensor.float()\n",
    "    \n",
    "def visualize_3d_torch(tensor_3d, min_bound=None, voxel_size=1, threshold=0.5, window_name=\"Open3D Vis\"):\n",
    "     # Assume a default min_bound if it's not provided\n",
    "    if min_bound is None:\n",
    "        min_bound = np.array([1, 1, 1])  # Default assumption\n",
    "\n",
    "    # Find indices of non-zero elements in the tensor\n",
    "    occupied_indices = np.argwhere(tensor_3d.numpy() > 0.5)\n",
    "    # Convert grid indices back to world coordinates\n",
    "    points = occupied_indices * voxel_size + min_bound\n",
    "    # Create a point cloud using Open3D\n",
    "    pcd = o3d.geometry.PointCloud()\n",
    "    pcd.points = o3d.utility.Vector3dVector(points)\n",
    "    o3d.visualization.draw_geometries([pcd], window_name=window_name)"
   ],
   "outputs": [],
   "execution_count": 54
  },
  {
   "cell_type": "markdown",
   "id": "a04271f8dcc50c46",
   "metadata": {},
   "source": [
    "# Training"
   ]
  },
  {
   "cell_type": "code",
   "id": "9308fa7f83e43c94",
   "metadata": {
    "ExecuteTime": {
     "end_time": "2025-01-06T16:22:41.377746Z",
     "start_time": "2025-01-06T16:22:41.349591Z"
    }
   },
   "source": [
    "def validate_autoencoder(model, dataloader, device='cuda'):\n",
    "    model.eval()\n",
    "    total_loss = 0.0\n",
    "    \n",
    "    with torch.no_grad():\n",
    "        for incomplete_pc, ground_truth_pc in dataloader:\n",
    "            incomplete_pc = incomplete_pc.to(device)\n",
    "            ground_truth_pc = ground_truth_pc.to(device)\n",
    "\n",
    "            # Get the reconstructed point cloud\n",
    "            reconstructed_pc = model(incomplete_pc)\n",
    "\n",
    "            # Calculate the loss against the ground truth\n",
    "            loss = combined_loss(reconstructed_pc, ground_truth_pc)\n",
    "            total_loss += loss.item()\n",
    "\n",
    "    avg_loss = total_loss / len(dataloader)\n",
    "    return avg_loss\n",
    "\n",
    "def train_with_ground_truth(model, optimizer, train_loader, val_loader, epochs=50, device='cuda'):\n",
    "    model.to(device)\n",
    "    \n",
    "    best_loss = float('inf')\n",
    "    patience = 7\n",
    "    \n",
    "    train_losses = []\n",
    "    val_losses = []\n",
    "    \n",
    "    print(\"starting epochs\")\n",
    "    \n",
    "    for epoch in range(epochs):\n",
    "        model.train()\n",
    "        total_train_loss = 0.0\n",
    "\n",
    "        batch_index = 0\n",
    "        total_length = len(train_loader)\n",
    "        \n",
    "        for incomplete_pc, ground_truth_pc in train_loader:\n",
    "\n",
    "            # process loging\n",
    "            if batch_index % 50 == 0:\n",
    "                print(f\"epoch progress {batch_index}/{total_length}\")\n",
    "            batch_index += 1\n",
    "            \n",
    "            incomplete_pc = incomplete_pc.to(device)\n",
    "            ground_truth_pc = ground_truth_pc.to(device)\n",
    "                            \n",
    "            # Reconstruct point cloud\n",
    "            reconstructed_pc = model(incomplete_pc)\n",
    "\n",
    "            # Compute loss against ground truth\n",
    "            loss = combined_loss(reconstructed_pc, ground_truth_pc)\n",
    "            \n",
    "            optimizer.zero_grad()\n",
    "            loss.backward()\n",
    "            optimizer.step()\n",
    "\n",
    "            total_train_loss += loss.item()\n",
    "\n",
    "        avg_train_loss = total_train_loss / len(train_loader)\n",
    "        avg_val_loss = validate_autoencoder(model, val_loader, device)\n",
    "        \n",
    "        train_losses.append(avg_train_loss)\n",
    "        val_losses.append(avg_val_loss)\n",
    "        \n",
    "        # Early stopping\n",
    "        if avg_train_loss < best_loss:\n",
    "            best_loss = avg_train_loss\n",
    "            patience = 7  # Reset patience counter\n",
    "        else:\n",
    "            patience -= 1\n",
    "            if patience == 0:\n",
    "                print(\"EARLY STOPPING DUE TO MISSING PROGRESS\")\n",
    "                break\n",
    "        \n",
    "        print(f\"Epoch {epoch + 1}/{epochs}, Train Loss: {avg_train_loss:.4f}, Val Loss: {avg_val_loss:.4f}\")\n",
    "        \n",
    "    plt.figure(figsize=(10, 6))\n",
    "    plt.plot(train_losses, label='Training Loss', color='blue')\n",
    "    plt.plot(val_losses, label='Validation Loss', color='red')\n",
    "    plt.xlabel('Epoch')\n",
    "    plt.ylabel('Loss')\n",
    "    plt.title('Training and Validation Loss')\n",
    "    plt.legend()\n",
    "    plt.grid(True)\n",
    "    plt.show()"
   ],
   "outputs": [],
   "execution_count": 55
  },
  {
   "cell_type": "code",
   "id": "d105d8eb06e6b5fa",
   "metadata": {
    "ExecuteTime": {
     "end_time": "2025-01-06T16:22:44.237663Z",
     "start_time": "2025-01-06T16:22:43.786555Z"
    }
   },
   "source": [
    " # Dataset root directory\n",
    "root_dir = \"../assets/voxel10000\"\n",
    "\n",
    "# Create dataset and dataloaders\n",
    "full_dataset = VoxelGridDataset(root_dir=root_dir, split=\"train\")\n",
    "\n",
    "#limit to 10k\n",
    "#indices = np.random.choice(len(full_dataset), size=8000, replace=False)\n",
    "#subset_d = Subset(full_dataset, indices)\n",
    "\n",
    "# Define the split ratio (e.g., 80% train, 20% validation)\n",
    "train_size = int(0.8 * len(full_dataset))\n",
    "val_size = len(full_dataset) - train_size\n",
    "print(f\"train size: {train_size}, val size: {val_size}\")\n",
    "train_dataset, val_dataset = random_split(full_dataset, [train_size, val_size])\n",
    "\n",
    "train_loader = DataLoader(train_dataset, batch_size=16, shuffle=True)\n",
    "val_loader = DataLoader(val_dataset, batch_size=16, shuffle=False)\n",
    "\n",
    "demo_entry = val_dataset[1]\n",
    "print(np.shape(demo_entry))\n",
    "\n",
    "# test signed heat map stuff\n",
    "\n",
    "\n",
    "#visualize_3d_torch(demo_entry[0][0])\n",
    "#visualize_3d_torch(demo_entry[0][0])\n",
    "\n",
    "smoothed_field_np = demo_entry[0][0].squeeze().cpu().numpy()  # Convert to NumPy array if it's a PyTorch tensor\n",
    "slice_index = 16\n",
    "slice_data = smoothed_field_np[slice_index, :, :]  # Extract the slice (H, W)\n",
    "\n",
    "# Plot the slice\n",
    "plt.figure(figsize=(6, 6))\n",
    "plt.imshow(slice_data, cmap='viridis')  # Use a colormap like 'viridis', 'gray', etc.\n",
    "plt.colorbar(label='Intensity')\n",
    "plt.title(f'Slice {slice_index}')\n",
    "plt.xlabel('Width')\n",
    "plt.ylabel('Height')\n",
    "plt.show()\n",
    "\n",
    "#full_dataset.visualize_3d_torch(demo_entry[0])\n",
    "#print(demo_entry)\n",
    "#visualize_point_cloud(demo_entry)"
   ],
   "outputs": [
    {
     "name": "stdout",
     "output_type": "stream",
     "text": [
      "Created dataset with 6 entries\n",
      "train size: 4, val size: 2\n",
      "(2, 1, 32, 32, 32)\n"
     ]
    },
    {
     "data": {
      "text/plain": [
       "<Figure size 600x600 with 2 Axes>"
      ],
      "image/png": "[encoded data removed]"
     },
     "metadata": {},
     "output_type": "display_data"
    }
   ],
   "execution_count": 56
  },
  {
   "cell_type": "code",
   "execution_count": 9,
   "id": "dbae4a5d88da3078",
   "metadata": {
    "ExecuteTime": {
     "end_time": "2024-12-15T22:34:44.431760Z",
     "start_time": "2024-12-15T22:34:41.542324Z"
    }
   },
   "outputs": [
    {
     "name": "stdout",
     "output_type": "stream",
     "text": [
      "cuda\n"
     ]
    },
    {
     "data": {
      "text/plain": [
       "PointCloudAutoEncoder(\n",
       "  (encoder): Sequential(\n",
       "    (0): Conv3d(1, 16, kernel_size=(3, 3, 3), stride=(2, 2, 2), padding=(1, 1, 1))\n",
       "    (1): ReLU(inplace=True)\n",
       "    (2): Conv3d(16, 32, kernel_size=(3, 3, 3), stride=(2, 2, 2), padding=(1, 1, 1))\n",
       "    (3): ReLU(inplace=True)\n",
       "    (4): Conv3d(32, 32, kernel_size=(3, 3, 3), stride=(1, 1, 1), padding=(1, 1, 1))\n",
       "    (5): ReLU(inplace=True)\n",
       "  )\n",
       "  (flatBottleneck): Sequential(\n",
       "    (0): Flatten(start_dim=1, end_dim=-1)\n",
       "    (1): Linear(in_features=16384, out_features=16384, bias=True)\n",
       "    (2): ReLU(inplace=True)\n",
       "    (3): Linear(in_features=16384, out_features=16384, bias=True)\n",
       "    (4): ReLU(inplace=True)\n",
       "    (5): Unflatten(dim=1, unflattened_size=(32, 8, 8, 8))\n",
       "  )\n",
       "  (decoder): Sequential(\n",
       "    (0): ConvTranspose3d(32, 32, kernel_size=(3, 3, 3), stride=(1, 1, 1), padding=(1, 1, 1))\n",
       "    (1): ReLU(inplace=True)\n",
       "    (2): ConvTranspose3d(32, 16, kernel_size=(3, 3, 3), stride=(2, 2, 2), padding=(1, 1, 1), output_padding=(1, 1, 1))\n",
       "    (3): ReLU(inplace=True)\n",
       "    (4): ConvTranspose3d(16, 1, kernel_size=(3, 3, 3), stride=(2, 2, 2), padding=(1, 1, 1), output_padding=(1, 1, 1))\n",
       "    (5): Sigmoid()\n",
       "  )\n",
       ")"
      ]
     },
     "execution_count": 9,
     "metadata": {},
     "output_type": "execute_result"
    }
   ],
   "source": [
    "# Initialize model, optimizer\n",
    "epochs = 20\n",
    "learning_rate = 1e-3\n",
    "device = 'cuda' if torch.cuda.is_available() else 'cpu'\n",
    "print(device)\n",
    "model = PointCloudAutoEncoder()\n",
    "model.to(device)"
   ]
  },
  {
   "cell_type": "code",
   "execution_count": null,
   "id": "85d389ffe7bafd28",
   "metadata": {
    "ExecuteTime": {
     "end_time": "2024-12-16T13:13:52.307985Z",
     "start_time": "2024-12-15T22:34:46.704230Z"
    }
   },
   "outputs": [
    {
     "name": "stdout",
     "output_type": "stream",
     "text": [
      "starting epochs\n",
      "epoch progress 0/1467\n"
     ]
    }
   ],
   "source": [
    "# Train with grund truth\n",
    "optimizer = torch.optim.Adam(model.parameters(), lr=learning_rate)\n",
    "train_with_ground_truth(model, optimizer, train_loader, val_loader, epochs=epochs, device=device)"
   ]
  },
  {
   "cell_type": "markdown",
   "id": "bbfc33e577972c29",
   "metadata": {},
   "source": [
    "# Evaluation / Test"
   ]
  },
  {
   "cell_type": "code",
   "execution_count": null,
   "id": "3996d310a69501f5",
   "metadata": {
    "ExecuteTime": {
     "end_time": "2024-12-16T13:54:58.649382Z",
     "start_time": "2024-12-16T13:54:51.195337Z"
    }
   },
   "outputs": [],
   "source": [
    "# Get a single example\n",
    "pd_input, pd_truth = train_dataset[3]  # First sample from the dataset\n",
    "pd_input = pd_input.unsqueeze(0)  # Add batch dimension (1, num_points, 3)\n",
    "device = 'cuda' if torch.cuda.is_available() else 'cpu'\n",
    "pd_input = pd_input.to(device)\n",
    "\n",
    "#state_dict = torch.load(\"../assets/model_exports/model_v1.pt\")\n",
    "#model.load_state_dict(state_dict)\n",
    "#model.eval()\n",
    "\n",
    "# Run through the model\n",
    "with torch.no_grad():\n",
    "    reconstructed_pc = model(pd_input)\n",
    "    \n",
    "# Remove batch dimension\n",
    "pd_input = pd_input.squeeze(0).cpu()\n",
    "reconstructed_pc = reconstructed_pc.squeeze(0).cpu()\n",
    "pd_truth = pd_truth.cpu()\n",
    "#plot_point_cloud(pd_truth)\n",
    "\n",
    "#print(torch.max(reconstructed_pc))\n",
    "reconstructed_pc = torch.where(reconstructed_pc > 0.5, 1, 0)\n",
    "print(\"reconstructed\")\n",
    "print(f\"shape: {np.shape(reconstructed_pc)}\")\n",
    "print(f\"max: {torch.max(reconstructed_pc)}\")\n",
    "print(f\"sum == 1: {torch.sum(reconstructed_pc == 1)}\")\n",
    "print(f\"sum == 0: {torch.sum(reconstructed_pc == 0)}\")\n",
    "print(f\"shape: {torch.max(pd_input)}\")\n",
    "print(f\"max: {np.shape(pd_input)}\")\n",
    "print(f\"sum == 1: {torch.sum(pd_input == 1)}\")\n",
    "print(f\"sum == 0: {torch.sum(pd_input == 0)}\")\n",
    "\n",
    "voxel_size = 0.01  # Assuming the original grid covered a 10x10x10 space\n",
    "min_bound = np.array([3, 1, 2])  # Assume min_bound was at origin\n",
    "    \n",
    "visualize_3d_torch(pd_input[0], voxel_size, min_bound, window_name=\"Input\")\n",
    "visualize_3d_torch(pd_truth[0], voxel_size, min_bound, window_name=\"Ground Truth\")\n",
    "visualize_3d_torch(reconstructed_pc[0], voxel_size, min_bound, window_name=\"Predicted\")"
   ]
  },
  {
   "cell_type": "code",
   "execution_count": 50,
   "id": "8af0450c3ec400b2",
   "metadata": {
    "ExecuteTime": {
     "end_time": "2024-12-16T13:38:46.669916Z",
     "start_time": "2024-12-16T13:38:33.221045Z"
    }
   },
   "outputs": [],
   "source": [
    "#torch.save(model, '../assets/model_exports/model_v3.pt')"
   ]
  }
 ],
 "metadata": {
  "kernelspec": {
   "display_name": "Python 3 (ipykernel)",
   "language": "python",
   "name": "python3"
  },
  "language_info": {
   "codemirror_mode": {
    "name": "ipython",
    "version": 3
   },
   "file_extension": ".py",
   "mimetype": "text/x-python",
   "name": "python",
   "nbconvert_exporter": "python",
   "pygments_lexer": "ipython3",
   "version": "3.10.14"
  }
 },
 "nbformat": 4,
 "nbformat_minor": 5
}
