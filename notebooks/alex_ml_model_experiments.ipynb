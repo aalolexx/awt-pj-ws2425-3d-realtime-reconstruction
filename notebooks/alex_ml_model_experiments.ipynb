{
 "cells": [
  {
   "cell_type": "code",
   "execution_count": 3,
   "id": "initial_id",
   "metadata": {
    "ExecuteTime": {
     "end_time": "2024-12-09T18:47:11.744025Z",
     "start_time": "2024-12-09T18:47:05.495614Z"
    }
   },
   "outputs": [],
   "source": [
    "import torch\n",
    "import torch.nn as nn\n",
    "import torch.nn.functional as F\n",
    "import open3d as o3d\n",
    "import os\n",
    "import cv2\n",
    "import matplotlib.pyplot as plt\n",
    "import numpy as np\n",
    "from torch.utils.data import DataLoader, Dataset, random_split"
   ]
  },
  {
   "cell_type": "code",
   "execution_count": 4,
   "id": "7e9c90e0-4ed2-4bd2-96d8-214b0de79566",
   "metadata": {},
   "outputs": [
    {
     "data": {
      "text/plain": [
       "True"
      ]
     },
     "execution_count": 4,
     "metadata": {},
     "output_type": "execute_result"
    }
   ],
   "source": [
    "torch.cuda.is_available()"
   ]
  },
  {
   "cell_type": "markdown",
   "id": "1105bda5af1b4307",
   "metadata": {},
   "source": [
    "# The Model"
   ]
  },
  {
   "cell_type": "code",
   "execution_count": 5,
   "id": "59e4f371fab4d0ef",
   "metadata": {
    "ExecuteTime": {
     "end_time": "2024-12-09T19:17:42.036890Z",
     "start_time": "2024-12-09T19:17:42.026888Z"
    }
   },
   "outputs": [],
   "source": [
    "class PointCloudAutoEncoder(nn.Module):\n",
    "    def __init__(self, input_dim=3, bottleneck_size=128, num_points=1024):\n",
    "        super(PointCloudAutoEncoder, self).__init__()\n",
    "        self.num_points = num_points\n",
    "\n",
    "        # Encoder: Maps input point cloud to a latent representation\n",
    "        self.encoder = nn.Sequential(\n",
    "            nn.Conv1d(input_dim, 64, kernel_size=3),\n",
    "            nn.ReLU(),\n",
    "            nn.Conv1d(64, 128, kernel_size=3),\n",
    "            nn.ReLU(),\n",
    "            nn.Conv1d(128, 256, kernel_size=3),\n",
    "            nn.ReLU(),\n",
    "            nn.Conv1d(256, bottleneck_size, kernel_size=3),\n",
    "            nn.AdaptiveMaxPool1d(1)\n",
    "        )\n",
    "\n",
    "        # Decoder: Maps latent representation back to point cloud\n",
    "        self.decoder = nn.Sequential(\n",
    "            nn.Linear(bottleneck_size, 256),\n",
    "            nn.ReLU(),\n",
    "            nn.Linear(256, 512),\n",
    "            nn.ReLU(),\n",
    "            nn.Linear(512, 1024),\n",
    "            nn.ReLU(),\n",
    "            nn.Linear(1024, num_points * input_dim),\n",
    "        )\n",
    "\n",
    "    def forward(self, x):\n",
    "        # x: [batch_size, num_points, input_dim]\n",
    "        \n",
    "        # Encoder\n",
    "        x = x.permute(0, 2, 1)  # Change to [batch_size, input_dim, num_points]\n",
    "        latent = self.encoder(x)  # [batch_size, bottleneck_size, 1]\n",
    "        latent = latent.view(latent.size(0), -1)  # [batch_size, bottleneck_size]\n",
    "\n",
    "        # Decoder\n",
    "        reconstructed = self.decoder(latent)  # [batch_size, num_points * input_dim]\n",
    "        reconstructed = reconstructed.view(-1, self.num_points, 3)  # [batch_size, num_points, input_dim]\n",
    "        \n",
    "        return reconstructed"
   ]
  },
  {
   "cell_type": "code",
   "execution_count": 6,
   "id": "a588be6ed7444240",
   "metadata": {
    "ExecuteTime": {
     "end_time": "2024-12-09T19:17:43.708261Z",
     "start_time": "2024-12-09T19:17:43.700258Z"
    }
   },
   "outputs": [],
   "source": [
    "#\n",
    "# LOSS METHODS\n",
    "#\n",
    "\n",
    "from torch.nn import MSELoss\n",
    "\n",
    "def chamfer_loss(pred, target):\n",
    "    \"\"\"\n",
    "    Computes the Chamfer Distance between two point clouds.\n",
    "    Args:\n",
    "        pred: Predicted point cloud [batch_size, num_points, 3]\n",
    "        target: Ground truth point cloud [batch_size, num_points, 3]\n",
    "    Returns:\n",
    "        Chamfer distance (scalar).\n",
    "    \"\"\"\n",
    "    # Compute pairwise distances\n",
    "    pred_expand = pred.unsqueeze(2)  # [batch_size, num_points, 1, 3]\n",
    "    target_expand = target.unsqueeze(1)  # [batch_size, 1, num_points, 3]\n",
    "    dist = torch.norm(pred_expand - target_expand, dim=-1)  # [batch_size, num_points, num_points]\n",
    "\n",
    "    # Find nearest neighbors\n",
    "    dist_to_target = torch.min(dist, dim=2)[0]  # Distance from pred to target\n",
    "    dist_to_pred = torch.min(dist, dim=1)[0]  # Distance from target to pred\n",
    "\n",
    "    # Average distances\n",
    "    loss = torch.mean(dist_to_target) + torch.mean(dist_to_pred)\n",
    "    return loss\n",
    "\n",
    "\n",
    "\n",
    "\"\"\"\n",
    "COMBINED LOSS\n",
    "\"\"\"\n",
    "def combined_loss(pred, target):\n",
    "    return chamfer_loss(pred, target)\n",
    "    #loss_fn = MSELoss()\n",
    "    #mse_loss = loss_fn(pred, target)\n",
    "    #ch_loss = chamfer_loss(pred, target)\n",
    "    #return (mse_loss + ch_loss) * 0.5\n",
    "    "
   ]
  },
  {
   "cell_type": "markdown",
   "id": "fede8cca442fa41c",
   "metadata": {},
   "source": [
    "# Dataset"
   ]
  },
  {
   "cell_type": "code",
   "execution_count": 7,
   "id": "b8b385aec956ab56",
   "metadata": {
    "ExecuteTime": {
     "end_time": "2024-12-09T19:17:45.263269Z",
     "start_time": "2024-12-09T19:17:45.245265Z"
    }
   },
   "outputs": [],
   "source": [
    "def downsample_point_cloud(point_cloud, target_points=1024):\n",
    "    \"\"\"\n",
    "    Uniformly downsamples a point cloud to a fixed number of points.\n",
    "    Args:\n",
    "        point_cloud (torch.Tensor): Input point cloud of shape [num_points, 3].\n",
    "        target_points (int): Desired number of points in the output.\n",
    "    Returns:\n",
    "        torch.Tensor: Downsampled point cloud of shape [target_points, 3].\n",
    "    \"\"\"\n",
    "    num_points = point_cloud.shape[0]\n",
    "    if num_points > target_points:\n",
    "        indices = torch.randperm(num_points)[:target_points]  # Randomly select indices\n",
    "        return point_cloud[indices]\n",
    "    elif num_points < target_points:\n",
    "        # Upsample by duplicating points\n",
    "        repeat_factor = (target_points + num_points - 1) // num_points\n",
    "        extended = point_cloud.repeat(repeat_factor, 1)[:target_points]\n",
    "        return extended\n",
    "    return point_cloud\n",
    "\n",
    "class PointCloudDataset(Dataset):\n",
    "    def __init__(self, root_dir, split=\"train\", target_points=1024, transform=None):\n",
    "        \"\"\"\n",
    "        Args:\n",
    "            root_dir (str): Root directory containing subfolders with .ply files.\n",
    "            split (str): 'train' or 'val'. Determines the file names.\n",
    "            target_points (int): Number of points to standardize the point clouds to.\n",
    "            transform (callable, optional): Optional transform to apply to the point clouds.\n",
    "        \"\"\"\n",
    "        self.root_dir = root_dir\n",
    "        self.split = split\n",
    "        self.target_points = target_points\n",
    "        self.transform = transform\n",
    "        self.samples = []\n",
    "\n",
    "        # Gather all subfolder paths and corresponding files\n",
    "        for subfolder in os.listdir(root_dir):\n",
    "            subfolder_path = os.path.join(root_dir, subfolder)\n",
    "            if os.path.isdir(subfolder_path):\n",
    "                incomplete_path = os.path.join(subfolder_path, f\"{subfolder}h.ply\")\n",
    "                ground_truth_path = os.path.join(subfolder_path, f\"{subfolder}.ply\")\n",
    "                if os.path.exists(incomplete_path) and os.path.exists(ground_truth_path):\n",
    "                    self.samples.append((incomplete_path, ground_truth_path))\n",
    "                    \n",
    "        print(f\"Created dataset with {len(self.samples)} entries\")\n",
    "\n",
    "    def __len__(self):\n",
    "        return len(self.samples)\n",
    "\n",
    "    def __getitem__(self, idx):\n",
    "        # Load the incomplete and ground truth point clouds\n",
    "        incomplete_path, ground_truth_path = self.samples[idx]\n",
    "\n",
    "        incomplete_pcd = o3d.io.read_point_cloud(incomplete_path)\n",
    "        ground_truth_pcd = o3d.io.read_point_cloud(ground_truth_path)\n",
    "\n",
    "        incomplete_points = torch.tensor(incomplete_pcd.points, dtype=torch.float32)\n",
    "        ground_truth_points = torch.tensor(ground_truth_pcd.points, dtype=torch.float32)\n",
    "\n",
    "        # Downsample or upsample to the target number of points\n",
    "        incomplete_points = downsample_point_cloud(incomplete_points, target_points=self.target_points)\n",
    "        ground_truth_points = downsample_point_cloud(ground_truth_points, target_points=self.target_points)\n",
    "\n",
    "        # Apply transformations if any\n",
    "        if self.transform:\n",
    "            incomplete_points = self.transform(incomplete_points)\n",
    "            ground_truth_points = self.transform(ground_truth_points)\n",
    "\n",
    "        return incomplete_points, ground_truth_points\n",
    "    \n",
    "def visualize_point_cloud(tensor_point_cloud):\n",
    "    \"\"\"\n",
    "    Visualizes a point cloud stored as a PyTorch tensor using Open3D.\n",
    "    Args:\n",
    "        tensor_point_cloud (torch.Tensor): Point cloud of shape [num_points, 3].\n",
    "    \"\"\"\n",
    "    # Ensure the tensor is detached and converted to a NumPy array\n",
    "    points = tensor_point_cloud.detach().cpu().numpy()\n",
    "\n",
    "    # Create an Open3D PointCloud object\n",
    "    pcd = o3d.geometry.PointCloud()\n",
    "    pcd.points = o3d.utility.Vector3dVector(points)\n",
    "\n",
    "    # Visualize the point cloud\n",
    "    o3d.visualization.draw_geometries([pcd])\n",
    "    \n",
    "    \n",
    "def plot_point_cloud(numpy_point_cloud):   \n",
    "    # Create a 3D scatter plot with matplotlib\n",
    "    fig = plt.figure()\n",
    "    ax = fig.add_subplot(111, projection='3d')\n",
    "    \n",
    "    # Scatter plot of the point cloud\n",
    "    ax.scatter(numpy_point_cloud[:, 2], numpy_point_cloud[:, 1], numpy_point_cloud[:, 2], s=1)\n",
    "    \n",
    "    # Set labels\n",
    "    ax.set_xlabel('X')\n",
    "    ax.set_ylabel('Y')\n",
    "    ax.set_zlabel('Z')\n",
    "    \n",
    "    # Show the plot\n",
    "    plt.show()"
   ]
  },
  {
   "cell_type": "markdown",
   "id": "a04271f8dcc50c46",
   "metadata": {},
   "source": [
    "# Training"
   ]
  },
  {
   "cell_type": "code",
   "execution_count": 8,
   "id": "9308fa7f83e43c94",
   "metadata": {
    "ExecuteTime": {
     "end_time": "2024-12-09T19:17:47.973952Z",
     "start_time": "2024-12-09T19:17:47.960948Z"
    }
   },
   "outputs": [],
   "source": [
    "def validate_autoencoder(model, dataloader, device='cuda'):\n",
    "    model.eval()\n",
    "    total_loss = 0.0\n",
    "    with torch.no_grad():\n",
    "        for incomplete_pc, ground_truth_pc in dataloader:\n",
    "            incomplete_pc = incomplete_pc.to(device)\n",
    "            ground_truth_pc = ground_truth_pc.to(device)\n",
    "\n",
    "            # Get the reconstructed point cloud\n",
    "            reconstructed_pc = model(incomplete_pc)\n",
    "\n",
    "            # Calculate the loss against the ground truth\n",
    "            loss = combined_loss(reconstructed_pc, ground_truth_pc)\n",
    "            total_loss += loss.item()\n",
    "\n",
    "    avg_loss = total_loss / len(dataloader)\n",
    "    return avg_loss\n",
    "\n",
    "def train_with_ground_truth(model, optimizer, train_loader, val_loader, epochs=50, device='cuda'):\n",
    "    model.to(device)\n",
    "    \n",
    "    train_losses = []\n",
    "    val_losses = []\n",
    "    \n",
    "    for epoch in range(epochs):\n",
    "        model.train()\n",
    "        total_train_loss = 0.0\n",
    "\n",
    "        for incomplete_pc, ground_truth_pc in train_loader:\n",
    "            incomplete_pc = incomplete_pc.to(device)\n",
    "            ground_truth_pc = ground_truth_pc.to(device)\n",
    "\n",
    "            # Reconstruct point cloud\n",
    "            reconstructed_pc = model(incomplete_pc)\n",
    "\n",
    "            # Compute loss against ground truth\n",
    "            loss = combined_loss(reconstructed_pc, ground_truth_pc)\n",
    "\n",
    "            optimizer.zero_grad()\n",
    "            loss.backward()\n",
    "            optimizer.step()\n",
    "\n",
    "            total_train_loss += loss.item()\n",
    "\n",
    "        avg_train_loss = total_train_loss / len(train_loader)\n",
    "        avg_val_loss = validate_autoencoder(model, val_loader, device)\n",
    "        \n",
    "        train_losses.append(avg_train_loss)\n",
    "        val_losses.append(avg_val_loss)\n",
    "\n",
    "        print(f\"Epoch {epoch + 1}/{epochs}, Train Loss: {avg_train_loss:.4f}, Val Loss: {avg_val_loss:.4f}\")\n",
    "        \n",
    "    plt.figure(figsize=(10, 6))\n",
    "    plt.plot(train_losses, label='Training Loss', color='blue')\n",
    "    plt.plot(val_losses, label='Validation Loss', color='red')\n",
    "    plt.xlabel('Epoch')\n",
    "    plt.ylabel('Loss')\n",
    "    plt.title('Training and Validation Loss')\n",
    "    plt.legend()\n",
    "    plt.grid(True)\n",
    "    plt.show()"
   ]
  },
  {
   "cell_type": "code",
   "execution_count": 11,
   "id": "d105d8eb06e6b5fa",
   "metadata": {
    "ExecuteTime": {
     "end_time": "2024-12-09T19:17:50.362457Z",
     "start_time": "2024-12-09T19:17:49.934852Z"
    }
   },
   "outputs": [
    {
     "name": "stdout",
     "output_type": "stream",
     "text": [
      "Created dataset with 0 entries\n"
     ]
    },
    {
     "ename": "ValueError",
     "evalue": "num_samples should be a positive integer value, but got num_samples=0",
     "output_type": "error",
     "traceback": [
      "\u001b[0;31m---------------------------------------------------------------------------\u001b[0m",
      "\u001b[0;31mValueError\u001b[0m                                Traceback (most recent call last)",
      "Cell \u001b[0;32mIn[11], line 12\u001b[0m\n\u001b[1;32m      9\u001b[0m val_size \u001b[38;5;241m=\u001b[39m \u001b[38;5;28mlen\u001b[39m(full_dataset) \u001b[38;5;241m-\u001b[39m train_size\n\u001b[1;32m     10\u001b[0m train_dataset, val_dataset \u001b[38;5;241m=\u001b[39m random_split(full_dataset, [train_size, val_size])\n\u001b[0;32m---> 12\u001b[0m train_loader \u001b[38;5;241m=\u001b[39m \u001b[43mDataLoader\u001b[49m\u001b[43m(\u001b[49m\u001b[43mtrain_dataset\u001b[49m\u001b[43m,\u001b[49m\u001b[43m \u001b[49m\u001b[43mbatch_size\u001b[49m\u001b[38;5;241;43m=\u001b[39;49m\u001b[38;5;241;43m8\u001b[39;49m\u001b[43m,\u001b[49m\u001b[43m \u001b[49m\u001b[43mshuffle\u001b[49m\u001b[38;5;241;43m=\u001b[39;49m\u001b[38;5;28;43;01mTrue\u001b[39;49;00m\u001b[43m)\u001b[49m\n\u001b[1;32m     13\u001b[0m val_loader \u001b[38;5;241m=\u001b[39m DataLoader(val_dataset, batch_size\u001b[38;5;241m=\u001b[39m\u001b[38;5;241m8\u001b[39m, shuffle\u001b[38;5;241m=\u001b[39m\u001b[38;5;28;01mFalse\u001b[39;00m)\n\u001b[1;32m     16\u001b[0m \u001b[38;5;66;03m#demo_entry = val_dataset[1]\u001b[39;00m\n\u001b[1;32m     17\u001b[0m \u001b[38;5;66;03m#visualize_point_cloud(demo_entry)\u001b[39;00m\n",
      "File \u001b[0;32m~/anaconda3/envs/ods/lib/python3.10/site-packages/torch/utils/data/dataloader.py:376\u001b[0m, in \u001b[0;36mDataLoader.__init__\u001b[0;34m(self, dataset, batch_size, shuffle, sampler, batch_sampler, num_workers, collate_fn, pin_memory, drop_last, timeout, worker_init_fn, multiprocessing_context, generator, prefetch_factor, persistent_workers, pin_memory_device)\u001b[0m\n\u001b[1;32m    374\u001b[0m \u001b[38;5;28;01melse\u001b[39;00m:  \u001b[38;5;66;03m# map-style\u001b[39;00m\n\u001b[1;32m    375\u001b[0m     \u001b[38;5;28;01mif\u001b[39;00m shuffle:\n\u001b[0;32m--> 376\u001b[0m         sampler \u001b[38;5;241m=\u001b[39m \u001b[43mRandomSampler\u001b[49m\u001b[43m(\u001b[49m\u001b[43mdataset\u001b[49m\u001b[43m,\u001b[49m\u001b[43m \u001b[49m\u001b[43mgenerator\u001b[49m\u001b[38;5;241;43m=\u001b[39;49m\u001b[43mgenerator\u001b[49m\u001b[43m)\u001b[49m  \u001b[38;5;66;03m# type: ignore[arg-type]\u001b[39;00m\n\u001b[1;32m    377\u001b[0m     \u001b[38;5;28;01melse\u001b[39;00m:\n\u001b[1;32m    378\u001b[0m         sampler \u001b[38;5;241m=\u001b[39m SequentialSampler(dataset)  \u001b[38;5;66;03m# type: ignore[arg-type]\u001b[39;00m\n",
      "File \u001b[0;32m~/anaconda3/envs/ods/lib/python3.10/site-packages/torch/utils/data/sampler.py:164\u001b[0m, in \u001b[0;36mRandomSampler.__init__\u001b[0;34m(self, data_source, replacement, num_samples, generator)\u001b[0m\n\u001b[1;32m    159\u001b[0m     \u001b[38;5;28;01mraise\u001b[39;00m \u001b[38;5;167;01mTypeError\u001b[39;00m(\n\u001b[1;32m    160\u001b[0m         \u001b[38;5;124mf\u001b[39m\u001b[38;5;124m\"\u001b[39m\u001b[38;5;124mreplacement should be a boolean value, but got replacement=\u001b[39m\u001b[38;5;132;01m{\u001b[39;00m\u001b[38;5;28mself\u001b[39m\u001b[38;5;241m.\u001b[39mreplacement\u001b[38;5;132;01m}\u001b[39;00m\u001b[38;5;124m\"\u001b[39m\n\u001b[1;32m    161\u001b[0m     )\n\u001b[1;32m    163\u001b[0m \u001b[38;5;28;01mif\u001b[39;00m \u001b[38;5;129;01mnot\u001b[39;00m \u001b[38;5;28misinstance\u001b[39m(\u001b[38;5;28mself\u001b[39m\u001b[38;5;241m.\u001b[39mnum_samples, \u001b[38;5;28mint\u001b[39m) \u001b[38;5;129;01mor\u001b[39;00m \u001b[38;5;28mself\u001b[39m\u001b[38;5;241m.\u001b[39mnum_samples \u001b[38;5;241m<\u001b[39m\u001b[38;5;241m=\u001b[39m \u001b[38;5;241m0\u001b[39m:\n\u001b[0;32m--> 164\u001b[0m     \u001b[38;5;28;01mraise\u001b[39;00m \u001b[38;5;167;01mValueError\u001b[39;00m(\n\u001b[1;32m    165\u001b[0m         \u001b[38;5;124mf\u001b[39m\u001b[38;5;124m\"\u001b[39m\u001b[38;5;124mnum_samples should be a positive integer value, but got num_samples=\u001b[39m\u001b[38;5;132;01m{\u001b[39;00m\u001b[38;5;28mself\u001b[39m\u001b[38;5;241m.\u001b[39mnum_samples\u001b[38;5;132;01m}\u001b[39;00m\u001b[38;5;124m\"\u001b[39m\n\u001b[1;32m    166\u001b[0m     )\n",
      "\u001b[0;31mValueError\u001b[0m: num_samples should be a positive integer value, but got num_samples=0"
     ]
    }
   ],
   "source": [
    " # Dataset root directory\n",
    "root_dir = \"../../datasets/voxel10000\"\n",
    "\n",
    "# Create dataset and dataloaders\n",
    "full_dataset = PointCloudDataset(root_dir=root_dir, split=\"train\", target_points=1024)\n",
    "\n",
    "# Define the split ratio (e.g., 80% train, 20% validation)\n",
    "train_size = int(0.8 * len(full_dataset))\n",
    "val_size = len(full_dataset) - train_size\n",
    "train_dataset, val_dataset = random_split(full_dataset, [train_size, val_size])\n",
    "\n",
    "train_loader = DataLoader(train_dataset, batch_size=8, shuffle=True)\n",
    "val_loader = DataLoader(val_dataset, batch_size=8, shuffle=False)\n",
    "\n",
    "\n",
    "#demo_entry = val_dataset[1]\n",
    "#visualize_point_cloud(demo_entry)"
   ]
  },
  {
   "cell_type": "code",
   "execution_count": 27,
   "id": "dbae4a5d88da3078",
   "metadata": {
    "ExecuteTime": {
     "end_time": "2024-12-09T19:17:51.377688Z",
     "start_time": "2024-12-09T19:17:51.349681Z"
    }
   },
   "outputs": [],
   "source": [
    "# Initialize model, optimizer\n",
    "input_dim = 3\n",
    "bottleneck_size = 256\n",
    "num_points = 1024\n",
    "epochs = 30\n",
    "learning_rate = 1e-3\n",
    "device = 'cuda' if torch.cuda.is_available() else 'cpu'\n",
    "\n",
    "model = PointCloudAutoEncoder(input_dim=input_dim, bottleneck_size=bottleneck_size, num_points=num_points)"
   ]
  },
  {
   "cell_type": "code",
   "execution_count": 28,
   "id": "85d389ffe7bafd28",
   "metadata": {
    "ExecuteTime": {
     "end_time": "2024-12-09T19:27:51.109285Z",
     "start_time": "2024-12-09T19:17:52.428428Z"
    }
   },
   "outputs": [
    {
     "name": "stdout",
     "output_type": "stream",
     "text": [
      "Epoch 1/30, Train Loss: 0.9104, Val Loss: 0.7948\n",
      "Epoch 2/30, Train Loss: 0.7343, Val Loss: 0.7896\n",
      "Epoch 3/30, Train Loss: 0.7359, Val Loss: 0.8010\n",
      "Epoch 4/30, Train Loss: 0.7247, Val Loss: 0.7986\n",
      "Epoch 5/30, Train Loss: 0.7143, Val Loss: 0.8279\n",
      "Epoch 6/30, Train Loss: 0.7090, Val Loss: 0.8456\n",
      "Epoch 7/30, Train Loss: 0.7026, Val Loss: 0.7483\n",
      "Epoch 8/30, Train Loss: 0.7032, Val Loss: 0.7544\n",
      "Epoch 9/30, Train Loss: 0.6995, Val Loss: 0.7489\n",
      "Epoch 10/30, Train Loss: 0.7021, Val Loss: 0.7461\n",
      "Epoch 11/30, Train Loss: 0.6912, Val Loss: 0.7388\n",
      "Epoch 12/30, Train Loss: 0.6909, Val Loss: 0.7385\n",
      "Epoch 13/30, Train Loss: 0.6890, Val Loss: 0.7412\n",
      "Epoch 14/30, Train Loss: 0.6883, Val Loss: 0.7362\n",
      "Epoch 15/30, Train Loss: 0.6773, Val Loss: 0.7267\n",
      "Epoch 16/30, Train Loss: 0.6788, Val Loss: 0.7781\n",
      "Epoch 17/30, Train Loss: 0.6773, Val Loss: 0.7434\n",
      "Epoch 18/30, Train Loss: 0.6613, Val Loss: 0.7132\n",
      "Epoch 19/30, Train Loss: 0.6606, Val Loss: 0.7144\n",
      "Epoch 20/30, Train Loss: 0.6613, Val Loss: 0.7175\n",
      "Epoch 21/30, Train Loss: 0.6497, Val Loss: 0.6845\n",
      "Epoch 22/30, Train Loss: 0.6377, Val Loss: 0.6876\n",
      "Epoch 23/30, Train Loss: 0.6355, Val Loss: 0.6775\n",
      "Epoch 24/30, Train Loss: 0.6282, Val Loss: 0.7014\n",
      "Epoch 25/30, Train Loss: 0.6248, Val Loss: 0.6808\n",
      "Epoch 26/30, Train Loss: 0.6229, Val Loss: 0.7482\n",
      "Epoch 27/30, Train Loss: 0.6275, Val Loss: 0.6864\n",
      "Epoch 28/30, Train Loss: 0.6121, Val Loss: 0.6691\n",
      "Epoch 29/30, Train Loss: 0.6084, Val Loss: 0.6892\n",
      "Epoch 30/30, Train Loss: 0.6083, Val Loss: 0.6669\n"
     ]
    },
    {
     "data": {
      "image/png": "[encoded data removed]",
      "text/plain": [
       "<Figure size 1000x600 with 1 Axes>"
      ]
     },
     "metadata": {},
     "output_type": "display_data"
    }
   ],
   "source": [
    "# Train with grund truth\n",
    "optimizer = torch.optim.Adam(model.parameters(), lr=learning_rate)\n",
    "train_with_ground_truth(model, optimizer, train_loader, val_loader, epochs=epochs, device=device)"
   ]
  },
  {
   "cell_type": "markdown",
   "id": "bbfc33e577972c29",
   "metadata": {},
   "source": [
    "# Evaluation / Test"
   ]
  },
  {
   "cell_type": "code",
   "execution_count": 32,
   "id": "3996d310a69501f5",
   "metadata": {
    "ExecuteTime": {
     "end_time": "2024-12-09T19:28:44.788384Z",
     "start_time": "2024-12-09T19:28:37.480389Z"
    }
   },
   "outputs": [],
   "source": [
    "# Get a single example\n",
    "pd_input, pd_truth = train_dataset[251]  # First sample from the dataset\n",
    "pd_input = pd_input.unsqueeze(0)  # Add batch dimension (1, num_points, 3)\n",
    "device = 'cuda' if torch.cuda.is_available() else 'cpu'\n",
    "pd_input = pd_input.to(device)\n",
    "\n",
    "#state_dict = torch.load(\"../assets/model_exports/model_v1.pt\")\n",
    "#model.load_state_dict(state_dict)\n",
    "#model.eval()\n",
    "\n",
    "# Run through the model\n",
    "with torch.no_grad():\n",
    "    reconstructed_pc = model(pd_input)\n",
    "    \n",
    "# Remove batch dimension\n",
    "pd_input = pd_input.squeeze(0).cpu()\n",
    "reconstructed_pc = reconstructed_pc.squeeze(0).cpu()\n",
    "pd_truth = pd_truth.cpu()\n",
    "visualize_point_cloud(pd_input)\n",
    "visualize_point_cloud(pd_truth)\n",
    "visualize_point_cloud(reconstructed_pc)\n",
    "#plot_point_cloud(pd_truth)"
   ]
  },
  {
   "cell_type": "code",
   "execution_count": 121,
   "id": "8af0450c3ec400b2",
   "metadata": {
    "ExecuteTime": {
     "end_time": "2024-12-06T18:26:55.215845Z",
     "start_time": "2024-12-06T18:26:55.149294Z"
    }
   },
   "outputs": [],
   "source": [
    "torch.save(model, '../assets/model_exports/model_v2.pt')"
   ]
  },
  {
   "cell_type": "markdown",
   "id": "85dd70c14ed23872",
   "metadata": {},
   "source": [
    "# Other Experiments"
   ]
  },
  {
   "cell_type": "markdown",
   "id": "329b13a9a4196f7e",
   "metadata": {},
   "source": [
    "### Testing the Losses"
   ]
  },
  {
   "cell_type": "code",
   "execution_count": 15,
   "id": "c00f7f3f7d3460dc",
   "metadata": {
    "ExecuteTime": {
     "end_time": "2024-12-09T17:43:53.657818Z",
     "start_time": "2024-12-09T17:43:53.606199Z"
    }
   },
   "outputs": [
    {
     "name": "stdout",
     "output_type": "stream",
     "text": [
      "torch.Size([1, 1024, 3])\n",
      "Chamfer Loss Loss: 0.3967241942882538\n"
     ]
    }
   ],
   "source": [
    "#\n",
    "# IOU Loss visualization\n",
    "#\n",
    "\n",
    "pd_input, pd_truth = train_dataset[9]\n",
    "pd_input = pd_input.unsqueeze(0)\n",
    "print(np.shape(pd_input))\n",
    "pd_truth = pd_truth.unsqueeze(0)\n",
    "\n",
    "#input_voxels = voxelize_point_cloud(pd_input, voxel_size=0.1)\n",
    "\n",
    "#print(f\"IOUT Loss: {iou_loss(pd_input, pd_truth)}\")\n",
    "print(f\"Chamfer Loss Loss: {chamfer_loss(pd_input, pd_truth)}\")"
   ]
  }
 ],
 "metadata": {
  "kernelspec": {
   "display_name": "Python 3 (ipykernel)",
   "language": "python",
   "name": "python3"
  },
  "language_info": {
   "codemirror_mode": {
    "name": "ipython",
    "version": 3
   },
   "file_extension": ".py",
   "mimetype": "text/x-python",
   "name": "python",
   "nbconvert_exporter": "python",
   "pygments_lexer": "ipython3",
   "version": "3.10.14"
  }
 },
 "nbformat": 4,
 "nbformat_minor": 5
}
